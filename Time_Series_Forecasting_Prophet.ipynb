{
  "nbformat": 4,
  "nbformat_minor": 0,
  "metadata": {
    "colab": {
      "name": "Time Series Forecasting - Prophet.ipynb",
      "provenance": [],
      "collapsed_sections": [],
      "include_colab_link": true
    },
    "kernelspec": {
      "name": "python3",
      "display_name": "Python 3"
    }
  },
  "cells": [
    {
      "cell_type": "markdown",
      "metadata": {
        "id": "view-in-github",
        "colab_type": "text"
      },
      "source": [
        "<a href=\"https://colab.research.google.com/github/CeciliaKimura/time-series/blob/main/Time_Series_Forecasting_Prophet.ipynb\" target=\"_parent\"><img src=\"https://colab.research.google.com/assets/colab-badge.svg\" alt=\"Open In Colab\"/></a>"
      ]
    },
    {
      "cell_type": "markdown",
      "metadata": {
        "id": "qyvu7_gfdyLq"
      },
      "source": [
        "# **Time Series Forecasting with Prophet (Facebook)**\r\n",
        "\r\n",
        "## Previsão do Preço da Soja\r\n"
      ]
    },
    {
      "cell_type": "code",
      "metadata": {
        "colab": {
          "base_uri": "https://localhost:8080/"
        },
        "id": "WtAUTRJ4B4pe",
        "outputId": "f2aa38a9-7678-48da-8025-31d45498b10f"
      },
      "source": [
        "from google.colab import drive\n",
        "drive.mount('/content/drive')"
      ],
      "execution_count": 58,
      "outputs": [
        {
          "output_type": "stream",
          "text": [
            "Drive already mounted at /content/drive; to attempt to forcibly remount, call drive.mount(\"/content/drive\", force_remount=True).\n"
          ],
          "name": "stdout"
        }
      ]
    },
    {
      "cell_type": "markdown",
      "metadata": {
        "id": "ElRsO8wo_BnB"
      },
      "source": [
        "**Importação das bibliotecas**"
      ]
    },
    {
      "cell_type": "code",
      "metadata": {
        "id": "ii0oFWE4djZ-",
        "colab": {
          "base_uri": "https://localhost:8080/"
        },
        "outputId": "ee5ee1f9-e425-475d-c434-bb5a858d2d80"
      },
      "source": [
        "import pandas as pd\r\n",
        "import numpy as np\r\n",
        "import datetime as dt\r\n",
        "import sklearn as sk\r\n",
        "import matplotlib.pyplot as plt\r\n",
        "%matplotlib inline\r\n",
        "%pylab inline"
      ],
      "execution_count": 59,
      "outputs": [
        {
          "output_type": "stream",
          "text": [
            "Populating the interactive namespace from numpy and matplotlib\n"
          ],
          "name": "stdout"
        },
        {
          "output_type": "stream",
          "text": [
            "/usr/local/lib/python3.6/dist-packages/IPython/core/magics/pylab.py:161: UserWarning:\n",
            "\n",
            "pylab import has clobbered these variables: ['test']\n",
            "`%matplotlib` prevents importing * from pylab and numpy\n",
            "\n"
          ],
          "name": "stderr"
        }
      ]
    },
    {
      "cell_type": "markdown",
      "metadata": {
        "id": "YpX208jm_i6b"
      },
      "source": [
        "**Importação da base**\r\n",
        "\r\n",
        "Utilizei a base Indicador da Soja CEPEA/ESALQ disponível em https://www.cepea.esalq.usp.br/br/consultas-ao-banco-de-dados-do-site.aspx"
      ]
    },
    {
      "cell_type": "code",
      "metadata": {
        "id": "LetGZS-aBXxb"
      },
      "source": [
        "df= pd.read_csv('/content/drive/MyDrive/DGH/preco_soja_mensal.csv', sep=\";\", decimal=\",\", header=0, encoding='UTF-8')"
      ],
      "execution_count": 60,
      "outputs": []
    },
    {
      "cell_type": "markdown",
      "metadata": {
        "id": "96RMtUqaDzjR"
      },
      "source": [
        "**Visualização dos dados**"
      ]
    },
    {
      "cell_type": "code",
      "metadata": {
        "colab": {
          "base_uri": "https://localhost:8080/",
          "height": 204
        },
        "id": "GGbBVlZID9vD",
        "outputId": "b47efb8f-718c-46ff-82ff-51b4872e6c61"
      },
      "source": [
        "df.head()"
      ],
      "execution_count": 61,
      "outputs": [
        {
          "output_type": "execute_result",
          "data": {
            "text/html": [
              "<div>\n",
              "<style scoped>\n",
              "    .dataframe tbody tr th:only-of-type {\n",
              "        vertical-align: middle;\n",
              "    }\n",
              "\n",
              "    .dataframe tbody tr th {\n",
              "        vertical-align: top;\n",
              "    }\n",
              "\n",
              "    .dataframe thead th {\n",
              "        text-align: right;\n",
              "    }\n",
              "</style>\n",
              "<table border=\"1\" class=\"dataframe\">\n",
              "  <thead>\n",
              "    <tr style=\"text-align: right;\">\n",
              "      <th></th>\n",
              "      <th>Data</th>\n",
              "      <th>Preco_Dolar</th>\n",
              "    </tr>\n",
              "  </thead>\n",
              "  <tbody>\n",
              "    <tr>\n",
              "      <th>0</th>\n",
              "      <td>01/2011</td>\n",
              "      <td>29.61</td>\n",
              "    </tr>\n",
              "    <tr>\n",
              "      <th>1</th>\n",
              "      <td>02/2011</td>\n",
              "      <td>29.54</td>\n",
              "    </tr>\n",
              "    <tr>\n",
              "      <th>2</th>\n",
              "      <td>03/2011</td>\n",
              "      <td>27.92</td>\n",
              "    </tr>\n",
              "    <tr>\n",
              "      <th>3</th>\n",
              "      <td>04/2011</td>\n",
              "      <td>27.98</td>\n",
              "    </tr>\n",
              "    <tr>\n",
              "      <th>4</th>\n",
              "      <td>05/2011</td>\n",
              "      <td>27.86</td>\n",
              "    </tr>\n",
              "  </tbody>\n",
              "</table>\n",
              "</div>"
            ],
            "text/plain": [
              "      Data  Preco_Dolar\n",
              "0  01/2011        29.61\n",
              "1  02/2011        29.54\n",
              "2  03/2011        27.92\n",
              "3  04/2011        27.98\n",
              "4  05/2011        27.86"
            ]
          },
          "metadata": {
            "tags": []
          },
          "execution_count": 61
        }
      ]
    },
    {
      "cell_type": "code",
      "metadata": {
        "colab": {
          "base_uri": "https://localhost:8080/"
        },
        "id": "O2auSbB6Fljb",
        "outputId": "1a7bcc54-4489-44d3-bb22-97cf98b69e94"
      },
      "source": [
        "df.dtypes"
      ],
      "execution_count": 62,
      "outputs": [
        {
          "output_type": "execute_result",
          "data": {
            "text/plain": [
              "Data            object\n",
              "Preco_Dolar    float64\n",
              "dtype: object"
            ]
          },
          "metadata": {
            "tags": []
          },
          "execution_count": 62
        }
      ]
    },
    {
      "cell_type": "markdown",
      "metadata": {
        "id": "psSwjmdgFZWX"
      },
      "source": [
        "Transformar a coluna 'Data' para o formato datetime"
      ]
    },
    {
      "cell_type": "code",
      "metadata": {
        "colab": {
          "base_uri": "https://localhost:8080/"
        },
        "id": "dHGqymRWF93J",
        "outputId": "7b5b0b4e-4aa1-4bd8-fbd3-d21ddc28e803"
      },
      "source": [
        "df['Data'] = pd.to_datetime(df['Data'], format='%m/%Y')\r\n",
        "df.dtypes"
      ],
      "execution_count": 63,
      "outputs": [
        {
          "output_type": "execute_result",
          "data": {
            "text/plain": [
              "Data           datetime64[ns]\n",
              "Preco_Dolar           float64\n",
              "dtype: object"
            ]
          },
          "metadata": {
            "tags": []
          },
          "execution_count": 63
        }
      ]
    },
    {
      "cell_type": "code",
      "metadata": {
        "colab": {
          "base_uri": "https://localhost:8080/",
          "height": 204
        },
        "id": "bFRx4eC6Gw1Z",
        "outputId": "c1744ea8-0dd9-4200-edcb-588800496fa4"
      },
      "source": [
        "df.head()"
      ],
      "execution_count": 64,
      "outputs": [
        {
          "output_type": "execute_result",
          "data": {
            "text/html": [
              "<div>\n",
              "<style scoped>\n",
              "    .dataframe tbody tr th:only-of-type {\n",
              "        vertical-align: middle;\n",
              "    }\n",
              "\n",
              "    .dataframe tbody tr th {\n",
              "        vertical-align: top;\n",
              "    }\n",
              "\n",
              "    .dataframe thead th {\n",
              "        text-align: right;\n",
              "    }\n",
              "</style>\n",
              "<table border=\"1\" class=\"dataframe\">\n",
              "  <thead>\n",
              "    <tr style=\"text-align: right;\">\n",
              "      <th></th>\n",
              "      <th>Data</th>\n",
              "      <th>Preco_Dolar</th>\n",
              "    </tr>\n",
              "  </thead>\n",
              "  <tbody>\n",
              "    <tr>\n",
              "      <th>0</th>\n",
              "      <td>2011-01-01</td>\n",
              "      <td>29.61</td>\n",
              "    </tr>\n",
              "    <tr>\n",
              "      <th>1</th>\n",
              "      <td>2011-02-01</td>\n",
              "      <td>29.54</td>\n",
              "    </tr>\n",
              "    <tr>\n",
              "      <th>2</th>\n",
              "      <td>2011-03-01</td>\n",
              "      <td>27.92</td>\n",
              "    </tr>\n",
              "    <tr>\n",
              "      <th>3</th>\n",
              "      <td>2011-04-01</td>\n",
              "      <td>27.98</td>\n",
              "    </tr>\n",
              "    <tr>\n",
              "      <th>4</th>\n",
              "      <td>2011-05-01</td>\n",
              "      <td>27.86</td>\n",
              "    </tr>\n",
              "  </tbody>\n",
              "</table>\n",
              "</div>"
            ],
            "text/plain": [
              "        Data  Preco_Dolar\n",
              "0 2011-01-01        29.61\n",
              "1 2011-02-01        29.54\n",
              "2 2011-03-01        27.92\n",
              "3 2011-04-01        27.98\n",
              "4 2011-05-01        27.86"
            ]
          },
          "metadata": {
            "tags": []
          },
          "execution_count": 64
        }
      ]
    },
    {
      "cell_type": "markdown",
      "metadata": {
        "id": "mm46VEka2eMl"
      },
      "source": [
        "Fazer uma breve análise dos dados"
      ]
    },
    {
      "cell_type": "code",
      "metadata": {
        "colab": {
          "base_uri": "https://localhost:8080/",
          "height": 297
        },
        "id": "s-l32Mu42c55",
        "outputId": "63ef1702-1f3b-4023-8a90-48730059ac9c"
      },
      "source": [
        "df.describe()"
      ],
      "execution_count": 65,
      "outputs": [
        {
          "output_type": "execute_result",
          "data": {
            "text/html": [
              "<div>\n",
              "<style scoped>\n",
              "    .dataframe tbody tr th:only-of-type {\n",
              "        vertical-align: middle;\n",
              "    }\n",
              "\n",
              "    .dataframe tbody tr th {\n",
              "        vertical-align: top;\n",
              "    }\n",
              "\n",
              "    .dataframe thead th {\n",
              "        text-align: right;\n",
              "    }\n",
              "</style>\n",
              "<table border=\"1\" class=\"dataframe\">\n",
              "  <thead>\n",
              "    <tr style=\"text-align: right;\">\n",
              "      <th></th>\n",
              "      <th>Preco_Dolar</th>\n",
              "    </tr>\n",
              "  </thead>\n",
              "  <tbody>\n",
              "    <tr>\n",
              "      <th>count</th>\n",
              "      <td>120.000000</td>\n",
              "    </tr>\n",
              "    <tr>\n",
              "      <th>mean</th>\n",
              "      <td>24.627750</td>\n",
              "    </tr>\n",
              "    <tr>\n",
              "      <th>std</th>\n",
              "      <td>5.219108</td>\n",
              "    </tr>\n",
              "    <tr>\n",
              "      <th>min</th>\n",
              "      <td>17.870000</td>\n",
              "    </tr>\n",
              "    <tr>\n",
              "      <th>25%</th>\n",
              "      <td>20.270000</td>\n",
              "    </tr>\n",
              "    <tr>\n",
              "      <th>50%</th>\n",
              "      <td>22.480000</td>\n",
              "    </tr>\n",
              "    <tr>\n",
              "      <th>75%</th>\n",
              "      <td>28.475000</td>\n",
              "    </tr>\n",
              "    <tr>\n",
              "      <th>max</th>\n",
              "      <td>40.900000</td>\n",
              "    </tr>\n",
              "  </tbody>\n",
              "</table>\n",
              "</div>"
            ],
            "text/plain": [
              "       Preco_Dolar\n",
              "count   120.000000\n",
              "mean     24.627750\n",
              "std       5.219108\n",
              "min      17.870000\n",
              "25%      20.270000\n",
              "50%      22.480000\n",
              "75%      28.475000\n",
              "max      40.900000"
            ]
          },
          "metadata": {
            "tags": []
          },
          "execution_count": 65
        }
      ]
    },
    {
      "cell_type": "markdown",
      "metadata": {
        "id": "Qn8lbqTqG31g"
      },
      "source": [
        "Agora que estamos com o formato correto dos dados vamos plotar a série temporal para já termos os primeiros insights de sazonalidade, outliers, tendêcias..."
      ]
    },
    {
      "cell_type": "code",
      "metadata": {
        "colab": {
          "base_uri": "https://localhost:8080/",
          "height": 295
        },
        "id": "kiqLMuv8HSan",
        "outputId": "d57d33fe-77ff-41dc-dec9-f8c3a4b8d140"
      },
      "source": [
        "plt.plot('Data', 'Preco_Dolar', data=df)\r\n",
        "plt.title('Variação do preço da soja ao longo do tempo')\r\n",
        "plt.xlabel('Ano')\r\n",
        "plt.ylabel('Preço da Soja em Dólar')\r\n",
        "plt.show()"
      ],
      "execution_count": 69,
      "outputs": [
        {
          "output_type": "display_data",
          "data": {
            "image/png": "[encoded data removed]",
            "text/plain": [
              "<Figure size 432x288 with 1 Axes>"
            ]
          },
          "metadata": {
            "tags": [],
            "needs_background": "light"
          }
        }
      ]
    },
    {
      "cell_type": "markdown",
      "metadata": {
        "id": "L-MDNd6Lzv0k"
      },
      "source": [
        "Vamos utilizar o Prophet para a análise de séries temporais. Abaixo descrição da própria página do Facebook Prophet https://facebook.github.io/prophet/docs/quick_start.html"
      ]
    },
    {
      "cell_type": "markdown",
      "metadata": {
        "id": "dpi9nQr1kwEo"
      },
      "source": [
        "**Facebook Prophet**\r\n",
        "\r\n",
        "Prophet is a procedure for forecasting time series data based on an additive model where non-linear trends are fit with yearly, weekly, and daily seasonality, plus holiday effects. It works best with time series that have strong seasonal effects and several seasons of historical data. Prophet is robust to missing data and shifts in the trend, and typically handles outliers well.\r\n",
        "\r\n",
        "Prophet is open source software released by Facebook's Core Data Science team. "
      ]
    },
    {
      "cell_type": "markdown",
      "metadata": {
        "id": "rMrvpp_A0R0i"
      },
      "source": [
        "**Importação do Prophet**"
      ]
    },
    {
      "cell_type": "code",
      "metadata": {
        "id": "6FDJUGc4k1LY"
      },
      "source": [
        "from fbprophet import Prophet"
      ],
      "execution_count": null,
      "outputs": []
    },
    {
      "cell_type": "markdown",
      "metadata": {
        "id": "A6IqEQHd2_0i"
      },
      "source": [
        "O prophet trabalha com duas colunas:\r\n",
        "\r\n",
        "*   ds: features temporais\r\n",
        "*   y: valores a serem preditos\r\n",
        "\r\n",
        "Então vamos renomer nossas colunas para a nomenclatura padrão\r\n",
        "\r\n",
        "\r\n",
        "\r\n",
        "\r\n",
        "\r\n"
      ]
    },
    {
      "cell_type": "code",
      "metadata": {
        "id": "IlCMzMIh3AlK"
      },
      "source": [
        "df.columns = ['ds', 'y']"
      ],
      "execution_count": null,
      "outputs": []
    },
    {
      "cell_type": "code",
      "metadata": {
        "id": "udmurBW_4kTh"
      },
      "source": [
        "df.tail()"
      ],
      "execution_count": null,
      "outputs": []
    },
    {
      "cell_type": "markdown",
      "metadata": {
        "id": "1Q1ofseWFW-S"
      },
      "source": [
        "**Dividir os dados entre treino e teste**"
      ]
    },
    {
      "cell_type": "code",
      "metadata": {
        "id": "VhI-AcfE5AjD"
      },
      "source": [
        "train = df[df['ds'] < \"2020-01-01\"]\r\n",
        "test = df[df['ds'] >= \"2020-01-01\"]\r\n",
        "train.shape, test.shape"
      ],
      "execution_count": null,
      "outputs": []
    },
    {
      "cell_type": "code",
      "metadata": {
        "id": "HUmSq_Dc4uLv"
      },
      "source": [
        "train.head()"
      ],
      "execution_count": null,
      "outputs": []
    },
    {
      "cell_type": "code",
      "metadata": {
        "id": "IUabWqFC4ubs"
      },
      "source": [
        "test.head()"
      ],
      "execution_count": null,
      "outputs": []
    },
    {
      "cell_type": "code",
      "metadata": {
        "id": "ov2INcM5Fwa2"
      },
      "source": [
        "test.dtypes"
      ],
      "execution_count": null,
      "outputs": []
    },
    {
      "cell_type": "code",
      "metadata": {
        "id": "0O0aoFlJmX33"
      },
      "source": [
        "test.tail(30)"
      ],
      "execution_count": null,
      "outputs": []
    },
    {
      "cell_type": "markdown",
      "metadata": {
        "id": "i9IEhOiq0nfH"
      },
      "source": [
        "Antes de rodar o modelo Prophet vamos criar uma baseline para servir de comparação dos resultados"
      ]
    },
    {
      "cell_type": "markdown",
      "metadata": {
        "id": "I82MUIbQBocK"
      },
      "source": [
        "**Baseline**\r\n",
        "\r\n",
        "Vamos usar como baseline o preço do período anterior"
      ]
    },
    {
      "cell_type": "code",
      "metadata": {
        "id": "EdoWUP6mC559"
      },
      "source": [
        "# obtem todos od dados do treino \r\n",
        "history = [x for x in train['y']]\r\n",
        "\r\n",
        "# cria lista de previsões\r\n",
        "predictions = list()\r\n",
        "\r\n",
        "# aplicando o modelo naive\r\n",
        "for i in range(len(test)):\r\n",
        "  \r\n",
        "  # valor_predito recebe o último valor do conjunto de treino\r\n",
        "  valor_predito = history[-1]\r\n",
        "  \r\n",
        "  # a primeira previsão é o último valor do conjunto de treino\r\n",
        "  predictions.append(valor_predito)\r\n",
        "  \r\n",
        "  # valor real recebe o valor atual do teste.\r\n",
        "  valor_real = test['y'].values[i]\r\n",
        "  \r\n",
        "  # adiciona o valor real para a lista de historico\r\n",
        "  history.append(valor_real)\r\n",
        "  \r\n",
        "  # imprime valor predito e valor real..\r\n",
        "  print('Valor Predito=%.3f, Valor Esperado=%.3f' % (valor_predito, valor_real))"
      ],
      "execution_count": null,
      "outputs": []
    },
    {
      "cell_type": "markdown",
      "metadata": {
        "id": "SZI39Okg-Tsh"
      },
      "source": [
        "**A métrica de erro selecionada foi a RMSLE (root mean squared log error)**\r\n",
        "\r\n",
        "RMSLE incurs a larger penalty for the underestimation of the Actual variable than the Overestimation.Thi is especially useful for business cases where the underestimation of the target variable is not acceptable but overestimation can be tolerated.\r\n",
        "In the case of RMSE, the presence of outliers can explode the error term to a very high value. But, in the case of RMLSE the outliers are drastically scaled down therefore nullifying their effect.\r\n",
        "RMSLE metric only considers the relative error between and the Predicted and the actual value and the scale of the error is not significant. On the other hand, RMSE value Increases in magnitude if the scale of error increases.\r\n"
      ]
    },
    {
      "cell_type": "code",
      "metadata": {
        "id": "Bvwe0-YKDaBM"
      },
      "source": [
        "from pandas import DataFrame\r\n",
        "\r\n",
        "from sklearn.metrics import mean_squared_log_error\r\n",
        "\r\n",
        "np.sqrt(mean_squared_log_error(test['y'], DataFrame(predictions,columns=['ypred'])))"
      ],
      "execution_count": null,
      "outputs": []
    },
    {
      "cell_type": "markdown",
      "metadata": {
        "id": "RbqdkN8-BNiO"
      },
      "source": [
        "Essa métrica pode ser interpretada como 6.63% de erro entre os valores preditos e reais.\r\n",
        "\r\n",
        "\r\n"
      ]
    },
    {
      "cell_type": "markdown",
      "metadata": {
        "id": "ftJAFZpx6pxr"
      },
      "source": [
        "Para melhor visualização vamos plotar um gráfico comparando os valores estipulados na baseline com os valores reais do período de teste"
      ]
    },
    {
      "cell_type": "code",
      "metadata": {
        "id": "A3Fi7c-41p5f"
      },
      "source": [
        "Xtrain, ytrain = train.drop(['y'], axis=1).reset_index(drop=True), train['y'].reset_index(drop=True)\r\n",
        "Xtest, ytest = test.drop(['y'], axis=1).reset_index(drop=True), test['y'].reset_index(drop=True)"
      ],
      "execution_count": null,
      "outputs": []
    },
    {
      "cell_type": "code",
      "metadata": {
        "id": "8YPjFRB8zYKw"
      },
      "source": [
        "fig, ax = pylab.subplots(1,1, figsize=(12,7))\r\n",
        "ax.plot(ytest, label = 'Y')\r\n",
        "axt = ax.twinx()\r\n",
        "axt.plot(predictions, color = 'orange', alpha = 0.7, label='Previsões')\r\n",
        "axt.set(title='Comparação dos preços previsto e real na base teste',\r\n",
        "        ylabel='Preço da Soja em Dólar')\r\n",
        "axt.legend()"
      ],
      "execution_count": null,
      "outputs": []
    },
    {
      "cell_type": "markdown",
      "metadata": {
        "id": "_8_cuzTt6-yo"
      },
      "source": [
        "Como podemos observar pelo gráfico e pelo erro, a utilização do valor do período anterior para previsão do próximo período parece ser um bom \"chute\" inicial. O objetivo agora é criar um modelo que consiga bater essa baseline. Vamos testar o uso do Prophet, procedimento criado pelo Facebook para previsão de time series."
      ]
    },
    {
      "cell_type": "markdown",
      "metadata": {
        "id": "q8DXUL8k9Q_F"
      },
      "source": [
        "**Primeiro passo é instanciar um objeto Prophet**\r\n",
        "\r\n",
        "\r\n"
      ]
    },
    {
      "cell_type": "code",
      "metadata": {
        "id": "hAFA0gfinVTS"
      },
      "source": [
        "m = Prophet()"
      ],
      "execution_count": null,
      "outputs": []
    },
    {
      "cell_type": "markdown",
      "metadata": {
        "id": "eu0w7owl9hb0"
      },
      "source": [
        "**Criar o modelo**\r\n",
        "\r\n",
        "Vamos agora gerar um modelo em cima da nossa base de treino"
      ]
    },
    {
      "cell_type": "code",
      "metadata": {
        "id": "B8oHetSrpyhN"
      },
      "source": [
        "m.fit(train)"
      ],
      "execution_count": null,
      "outputs": []
    },
    {
      "cell_type": "markdown",
      "metadata": {
        "id": "OGHhJJFr9zb2"
      },
      "source": [
        "A partir do modelo treinado podemo prever períodos futuros, sendo o perído definido pelo parâmetro frequência, que utiliza os mesmos padrões de frequência do pandas https://pandas.pydata.org/pandas-docs/stable/user_guide/timeseries.html#dateoffset-objects"
      ]
    },
    {
      "cell_type": "code",
      "metadata": {
        "id": "jU312g7NnjrI"
      },
      "source": [
        "#future = m.make_future_dataframe(periods = 31, freq='B')\n",
        "future = m.make_future_dataframe(periods = 12, freq='MS')"
      ],
      "execution_count": null,
      "outputs": []
    },
    {
      "cell_type": "code",
      "metadata": {
        "id": "SSS8hMaqqF08"
      },
      "source": [
        "future"
      ],
      "execution_count": null,
      "outputs": []
    },
    {
      "cell_type": "markdown",
      "metadata": {
        "id": "uNEqpefC_fZD"
      },
      "source": [
        "Como podemos observar o método 'Prophet.make_future_dataframe' cria um dataframe com as datas que queremos fazer as previsões. Agora utilizamos o método 'predict' para calcular e atribuir o valor predito para cada data, assim como seus intervalos de incerteza. "
      ]
    },
    {
      "cell_type": "markdown",
      "metadata": {
        "id": "FfOeXoZl48Rs"
      },
      "source": [
        "**Previsões**"
      ]
    },
    {
      "cell_type": "code",
      "metadata": {
        "id": "vE4u8inlqiJr"
      },
      "source": [
        "forecast = m.predict(future)"
      ],
      "execution_count": null,
      "outputs": []
    },
    {
      "cell_type": "code",
      "metadata": {
        "id": "bAdbOcqAzZLt"
      },
      "source": [
        "forecast.head()"
      ],
      "execution_count": null,
      "outputs": []
    },
    {
      "cell_type": "code",
      "metadata": {
        "id": "pu092J8cq5D1"
      },
      "source": [
        "forecast[['ds', 'yhat', 'yhat_lower', 'yhat_upper']].tail()"
      ],
      "execution_count": null,
      "outputs": []
    },
    {
      "cell_type": "markdown",
      "metadata": {
        "id": "FFrJR5CN5LYi"
      },
      "source": [
        "**Plotar gráficos de forecast e dos componentes**"
      ]
    },
    {
      "cell_type": "markdown",
      "metadata": {
        "id": "HM1W6eLCBbcu"
      },
      "source": [
        "O método 'plot' plota os dados de forecast, incluindo os dados históricos usados para treino."
      ]
    },
    {
      "cell_type": "code",
      "metadata": {
        "id": "sIgXohZhw2IR"
      },
      "source": [
        "fig1 = m.plot(forecast)"
      ],
      "execution_count": null,
      "outputs": []
    },
    {
      "cell_type": "markdown",
      "metadata": {
        "id": "D3ihLyq3B9TU"
      },
      "source": [
        "O método 'plot_components' plota os componetes de tendência e sazonalidade (anual, mensal, diária, feriados etc) da time series."
      ]
    },
    {
      "cell_type": "code",
      "metadata": {
        "id": "e3LkYfB0x38z"
      },
      "source": [
        "fig2 = m.plot_components(forecast)"
      ],
      "execution_count": null,
      "outputs": []
    },
    {
      "cell_type": "code",
      "metadata": {
        "id": "uubdFWwCzimv"
      },
      "source": [
        "len(forecast['yhat'])"
      ],
      "execution_count": null,
      "outputs": []
    },
    {
      "cell_type": "markdown",
      "metadata": {
        "id": "fHaCJ8cE0ao2"
      },
      "source": [
        "# Validando o modelo com Prophet"
      ]
    },
    {
      "cell_type": "markdown",
      "metadata": {
        "id": "svbFIgjU6Jw2"
      },
      "source": [
        "Aplicando o modelo do prophet à base de teste"
      ]
    },
    {
      "cell_type": "code",
      "metadata": {
        "id": "SX2UA_TO0apL"
      },
      "source": [
        "test_forecast = m.predict(test)"
      ],
      "execution_count": null,
      "outputs": []
    },
    {
      "cell_type": "markdown",
      "metadata": {
        "id": "_9SEF-c96QQy"
      },
      "source": [
        "Imprimir as saidas"
      ]
    },
    {
      "cell_type": "code",
      "metadata": {
        "id": "ptIikM9E0apM"
      },
      "source": [
        "test_forecast[['ds', 'yhat', 'yhat_lower', 'yhat_upper']]"
      ],
      "execution_count": null,
      "outputs": []
    },
    {
      "cell_type": "markdown",
      "metadata": {
        "id": "UK6eI-aN6Wll"
      },
      "source": [
        "Cálculo do erro (RMSLE)"
      ]
    },
    {
      "cell_type": "code",
      "metadata": {
        "id": "NWycXqfesuuc"
      },
      "source": [
        "from sklearn.metrics import mean_squared_log_error\r\n",
        "\r\n",
        "np.sqrt(mean_squared_log_error(test['y'], test_forecast.yhat))"
      ],
      "execution_count": null,
      "outputs": []
    },
    {
      "cell_type": "markdown",
      "metadata": {
        "id": "CoXDh7m7AwC8"
      },
      "source": [
        "Esse erro pode ser interpretado como 28.23% de erro entre os valores preditos e os reais.\r\n",
        "\r\n",
        "Vamos plotar o gráfico de comparação"
      ]
    },
    {
      "cell_type": "code",
      "metadata": {
        "id": "V4Ohs3mIClXb"
      },
      "source": [
        "fig, ax = pylab.subplots(1,1, figsize=(12,7))\r\n",
        "ax.plot(ytest, label = 'Y')\r\n",
        "axt = ax.twinx()\r\n",
        "axt.plot(test_forecast.yhat, color = 'orange', alpha = 0.7, label='Previsões')\r\n",
        "axt.set(title='Comparação dos preços previsto e real na base teste',\r\n",
        "        ylabel='Preço da Soja em Dólar')\r\n",
        "axt.legend()"
      ],
      "execution_count": null,
      "outputs": []
    },
    {
      "cell_type": "markdown",
      "metadata": {
        "id": "hLH1LABkBCdu"
      },
      "source": [
        "Analisando o erro e o gráfico, podemos concluir que o modelo ficou bem longe de bater a baseline e portanto precisa ser melhorado. Para isso podemos usar diferentes períodos de tempo, verificar se históricamente algum período deveria ser desconsiderado, etc. \r\n",
        "\r\n",
        "Além disso outra técnicas de modelagem podem ser utilizadas e talvez se adequem melhor a essa série temporal, como as técnicas mais clássicas ARIMA, SARIMA, além de outras técnicas como Random Forest, LightGBM, Redes Neurais entre outras."
      ]
    },
    {
      "cell_type": "markdown",
      "metadata": {
        "id": "37Qf4unCG5oq"
      },
      "source": [
        "**Alterando o período de treino**"
      ]
    },
    {
      "cell_type": "markdown",
      "metadata": {
        "id": "8o0h8sahKLHO"
      },
      "source": [
        "Reduzindo o período de treino para apenas 1 ano anterior ao período de teste"
      ]
    },
    {
      "cell_type": "code",
      "metadata": {
        "id": "MFzluzEBHItg"
      },
      "source": [
        "# Carregar a base\r\n",
        "df= pd.read_csv('/content/drive/MyDrive/DGH/preco_soja_mensal.csv', sep=\";\", decimal=\",\", header=0, encoding='UTF-8')\r\n",
        "\r\n",
        "# Trocar os nomes das colunas para o padrão do Prophet\r\n",
        "df.columns = ['ds', 'y']\r\n",
        "df['ds']= pd.to_datetime(df['ds'])\r\n",
        "\r\n",
        "# Definir o perído de treino\r\n",
        "df = df[(df['ds'] > \"2019-01\") & (df['ds'] <= \"2020-12\")]\r\n",
        "\r\n",
        "# Separar os dados de teste (12 meses)\r\n",
        "train = df.drop(df.index[-12:])\r\n",
        "print(train.tail(12))\r\n",
        "\r\n",
        "# Instanciar um objeto Prophet\r\n",
        "m = Prophet()\r\n",
        "\r\n",
        "# Treinar o modelo\r\n",
        "m.fit(train)\r\n",
        "\r\n",
        "# Definir o período que queremos fazer as previsões\r\n",
        "future = list()\r\n",
        "for i in range(1, 13):\r\n",
        "\tdate = '2020-%02d' % i\r\n",
        "\tfuture.append([date])\r\n",
        "future = DataFrame(future)\r\n",
        "future.columns = ['ds']\r\n",
        "future['ds'] = pd.to_datetime(future['ds'])\r\n",
        "\r\n",
        "# Realizar as previsões\r\n",
        "forecast = m.predict(future)\r\n",
        "\r\n",
        "# Calcular o erro entre o previsto e o real\r\n",
        "ytest = df['y'][-12:].values\r\n",
        "ypred = forecast['yhat'].values\r\n",
        "rmsle = np.sqrt(mean_squared_log_error(ytest, ypred))\r\n",
        "print('RMSLE: %.3f' % rmsle)\r\n",
        "\r\n",
        "# Plotar o gráfico comparativo entre os valores reais e previstos\r\n",
        "fig, ax = pylab.subplots(1,1, figsize=(12,7))\r\n",
        "ax.plot(ytest, label = 'Y')\r\n",
        "axt = ax.twinx()\r\n",
        "axt.plot(ypred, color = 'orange', alpha = 0.7, label='Previsões')\r\n",
        "axt.set(title='Comparação dos preços previsto e real na base teste',\r\n",
        "        ylabel='Preço da Soja em Dólar')\r\n",
        "axt.legend()"
      ],
      "execution_count": null,
      "outputs": []
    },
    {
      "cell_type": "markdown",
      "metadata": {
        "id": "e22P1l0ZZkH7"
      },
      "source": [
        "O erro ficou em 16.1%, ainda bem longe da baseline. Além disso pelo gráfico podemos verificar que a previsão foi bem ruim na maioria dos meses. O que era de se esperar pois analiasando a série histórica, podemos ver que o comportamento do ano 2019 foi bem diferente do ano 2020."
      ]
    },
    {
      "cell_type": "markdown",
      "metadata": {
        "id": "iybDwtx3DnNZ"
      },
      "source": [
        "# Criar um \"Out-of-Sample Forecast\""
      ]
    },
    {
      "cell_type": "markdown",
      "metadata": {
        "id": "aSETNewHYcXa"
      },
      "source": [
        "**Previsão do preço da soja para o ano de 2021**\r\n",
        "\r\n",
        "Utilizei como treino o ano anterior (2020), supondo que 2021 siga a mesma tendência, porém como pudemos observar essa série temporal não parece seguir tendências e sazonalidades claras, outros fatores como mercado, crises e acordos comercias parecem ter um grande impacto e não conseguem ser modelados por essa abordagem do Prophet. Teríamos que escolher uma abordagem multivariada, provavelmente modelos de árvore e redes neurais possam explicar melhor esses fatores.\r\n",
        "\r\n"
      ]
    },
    {
      "cell_type": "code",
      "metadata": {
        "id": "HVdY6QfoDqaS"
      },
      "source": [
        "from pandas import read_csv\r\n",
        "from pandas import to_datetime\r\n",
        "from pandas import DataFrame\r\n",
        "from fbprophet import Prophet\r\n",
        "from matplotlib import pyplot\r\n",
        "\r\n",
        "# Carregar a base\r\n",
        "df= pd.read_csv('/content/drive/MyDrive/DGH/preco_soja_diario.csv', sep=\";\", decimal=\",\", header=0, encoding='UTF-8')\r\n",
        "\r\n",
        "# Trocar os nomes das colunas para o padrão do Prophet\r\n",
        "df.columns = ['ds', 'y']\r\n",
        "df['ds']= to_datetime(df['ds'])\r\n",
        "\r\n",
        "# Definir o período de treino\r\n",
        "df = df[df['ds'] > \"2020-01-01\"]\r\n",
        "\r\n",
        "# # Instanciar um objeto Prophet\r\n",
        "m = Prophet()\r\n",
        "m.add_seasonality(name='monthly', period=30.5, fourier_order=5)\r\n",
        "\r\n",
        "# Treinar o modelo\r\n",
        "m.fit(df)\r\n",
        "\r\n",
        "# Definir o período que queremos fazer as previsões\r\n",
        "future = list()\r\n",
        "for i in range(1, 13):\r\n",
        "\tdate = '2021-%02d' % i\r\n",
        "\tfuture.append([date])\r\n",
        "future = DataFrame(future)\r\n",
        "future.columns = ['ds']\r\n",
        "future['ds']= to_datetime(future['ds'])\r\n",
        "\r\n",
        "# Realizar as previsões\r\n",
        "forecast = m.predict(future)\r\n",
        "\r\n",
        "# Resumo do forecast\r\n",
        "print(forecast[['ds', 'yhat', 'yhat_lower', 'yhat_upper']])\r\n",
        "\r\n",
        "# Plotar o forecast e os componentes\r\n",
        "fig3 = m.plot(forecast)\r\n",
        "fig4 = m.plot_components(forecast)"
      ],
      "execution_count": null,
      "outputs": []
    }
  ]
}