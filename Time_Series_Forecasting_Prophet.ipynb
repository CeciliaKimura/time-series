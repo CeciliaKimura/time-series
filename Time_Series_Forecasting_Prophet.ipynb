{
  "nbformat": 4,
  "nbformat_minor": 0,
  "metadata": {
    "colab": {
      "name": "Time Series Forecasting - Prophet.ipynb",
      "provenance": [],
      "collapsed_sections": [],
      "include_colab_link": true
    },
    "kernelspec": {
      "name": "python3",
      "display_name": "Python 3"
    }
  },
  "cells": [
    {
      "cell_type": "markdown",
      "metadata": {
        "id": "view-in-github",
        "colab_type": "text"
      },
      "source": [
        "<a href=\"https://colab.research.google.com/github/CeciliaKimura/time-series/blob/main/Time_Series_Forecasting_Prophet.ipynb\" target=\"_parent\"><img src=\"https://colab.research.google.com/assets/colab-badge.svg\" alt=\"Open In Colab\"/></a>"
      ]
    },
    {
      "cell_type": "markdown",
      "metadata": {
        "id": "qyvu7_gfdyLq"
      },
      "source": [
        "# **Time Series Forecasting with Prophet (Facebook)**\r\n",
        "\r\n",
        "## Previsão do Preço da Soja\r\n"
      ]
    },
    {
      "cell_type": "code",
      "metadata": {
        "colab": {
          "base_uri": "https://localhost:8080/"
        },
        "id": "WtAUTRJ4B4pe",
        "outputId": "9d0dcfda-ee16-4539-9a52-e1e8b6f66358"
      },
      "source": [
        "from google.colab import drive\n",
        "drive.mount('/content/drive')"
      ],
      "execution_count": 1,
      "outputs": [
        {
          "output_type": "stream",
          "text": [
            "Drive already mounted at /content/drive; to attempt to forcibly remount, call drive.mount(\"/content/drive\", force_remount=True).\n"
          ],
          "name": "stdout"
        }
      ]
    },
    {
      "cell_type": "markdown",
      "metadata": {
        "id": "ElRsO8wo_BnB"
      },
      "source": [
        "**Importação das bibliotecas**"
      ]
    },
    {
      "cell_type": "code",
      "metadata": {
        "id": "ii0oFWE4djZ-",
        "colab": {
          "base_uri": "https://localhost:8080/"
        },
        "outputId": "6585093c-f665-4e56-b3aa-1bcd7a05dac9"
      },
      "source": [
        "import pandas as pd\r\n",
        "import numpy as np\r\n",
        "import datetime as dt\r\n",
        "import sklearn as sk\r\n",
        "import matplotlib.pyplot as plt\r\n",
        "%matplotlib inline\r\n",
        "%pylab inline"
      ],
      "execution_count": 2,
      "outputs": [
        {
          "output_type": "stream",
          "text": [
            "Populating the interactive namespace from numpy and matplotlib\n"
          ],
          "name": "stdout"
        }
      ]
    },
    {
      "cell_type": "markdown",
      "metadata": {
        "id": "YpX208jm_i6b"
      },
      "source": [
        "**Importação da base**\r\n",
        "\r\n",
        "Utilizei a base Indicador da Soja CEPEA/ESALQ disponível em https://www.cepea.esalq.usp.br/br/consultas-ao-banco-de-dados-do-site.aspx"
      ]
    },
    {
      "cell_type": "code",
      "metadata": {
        "id": "LetGZS-aBXxb"
      },
      "source": [
        "df= pd.read_csv('/content/drive/MyDrive/DGH/preco_soja_mensal.csv', sep=\";\", decimal=\",\", header=0, encoding='UTF-8')"
      ],
      "execution_count": 3,
      "outputs": []
    },
    {
      "cell_type": "markdown",
      "metadata": {
        "id": "96RMtUqaDzjR"
      },
      "source": [
        "**Visualização dos dados**"
      ]
    },
    {
      "cell_type": "code",
      "metadata": {
        "colab": {
          "base_uri": "https://localhost:8080/",
          "height": 204
        },
        "id": "GGbBVlZID9vD",
        "outputId": "1eb29e6f-e968-49d9-f02e-4aa5b4c566d3"
      },
      "source": [
        "df.head()"
      ],
      "execution_count": 4,
      "outputs": [
        {
          "output_type": "execute_result",
          "data": {
            "text/html": [
              "<div>\n",
              "<style scoped>\n",
              "    .dataframe tbody tr th:only-of-type {\n",
              "        vertical-align: middle;\n",
              "    }\n",
              "\n",
              "    .dataframe tbody tr th {\n",
              "        vertical-align: top;\n",
              "    }\n",
              "\n",
              "    .dataframe thead th {\n",
              "        text-align: right;\n",
              "    }\n",
              "</style>\n",
              "<table border=\"1\" class=\"dataframe\">\n",
              "  <thead>\n",
              "    <tr style=\"text-align: right;\">\n",
              "      <th></th>\n",
              "      <th>Data</th>\n",
              "      <th>Preco_Dolar</th>\n",
              "    </tr>\n",
              "  </thead>\n",
              "  <tbody>\n",
              "    <tr>\n",
              "      <th>0</th>\n",
              "      <td>01/2011</td>\n",
              "      <td>29.61</td>\n",
              "    </tr>\n",
              "    <tr>\n",
              "      <th>1</th>\n",
              "      <td>02/2011</td>\n",
              "      <td>29.54</td>\n",
              "    </tr>\n",
              "    <tr>\n",
              "      <th>2</th>\n",
              "      <td>03/2011</td>\n",
              "      <td>27.92</td>\n",
              "    </tr>\n",
              "    <tr>\n",
              "      <th>3</th>\n",
              "      <td>04/2011</td>\n",
              "      <td>27.98</td>\n",
              "    </tr>\n",
              "    <tr>\n",
              "      <th>4</th>\n",
              "      <td>05/2011</td>\n",
              "      <td>27.86</td>\n",
              "    </tr>\n",
              "  </tbody>\n",
              "</table>\n",
              "</div>"
            ],
            "text/plain": [
              "      Data  Preco_Dolar\n",
              "0  01/2011        29.61\n",
              "1  02/2011        29.54\n",
              "2  03/2011        27.92\n",
              "3  04/2011        27.98\n",
              "4  05/2011        27.86"
            ]
          },
          "metadata": {
            "tags": []
          },
          "execution_count": 4
        }
      ]
    },
    {
      "cell_type": "code",
      "metadata": {
        "colab": {
          "base_uri": "https://localhost:8080/"
        },
        "id": "O2auSbB6Fljb",
        "outputId": "d2c6761d-d789-4d5f-f7e6-3e07ed61795b"
      },
      "source": [
        "df.dtypes"
      ],
      "execution_count": 5,
      "outputs": [
        {
          "output_type": "execute_result",
          "data": {
            "text/plain": [
              "Data            object\n",
              "Preco_Dolar    float64\n",
              "dtype: object"
            ]
          },
          "metadata": {
            "tags": []
          },
          "execution_count": 5
        }
      ]
    },
    {
      "cell_type": "markdown",
      "metadata": {
        "id": "psSwjmdgFZWX"
      },
      "source": [
        "Transformar a coluna 'Data' para o formato datetime"
      ]
    },
    {
      "cell_type": "code",
      "metadata": {
        "colab": {
          "base_uri": "https://localhost:8080/"
        },
        "id": "dHGqymRWF93J",
        "outputId": "5af8c567-5040-4a1c-fe1e-b7db19aced0a"
      },
      "source": [
        "df['Data'] = pd.to_datetime(df['Data'], format='%m/%Y')\r\n",
        "df.dtypes"
      ],
      "execution_count": 6,
      "outputs": [
        {
          "output_type": "execute_result",
          "data": {
            "text/plain": [
              "Data           datetime64[ns]\n",
              "Preco_Dolar           float64\n",
              "dtype: object"
            ]
          },
          "metadata": {
            "tags": []
          },
          "execution_count": 6
        }
      ]
    },
    {
      "cell_type": "code",
      "metadata": {
        "colab": {
          "base_uri": "https://localhost:8080/",
          "height": 204
        },
        "id": "bFRx4eC6Gw1Z",
        "outputId": "93604d4d-de47-4f05-9ce5-e9951d76f182"
      },
      "source": [
        "df.head()"
      ],
      "execution_count": 7,
      "outputs": [
        {
          "output_type": "execute_result",
          "data": {
            "text/html": [
              "<div>\n",
              "<style scoped>\n",
              "    .dataframe tbody tr th:only-of-type {\n",
              "        vertical-align: middle;\n",
              "    }\n",
              "\n",
              "    .dataframe tbody tr th {\n",
              "        vertical-align: top;\n",
              "    }\n",
              "\n",
              "    .dataframe thead th {\n",
              "        text-align: right;\n",
              "    }\n",
              "</style>\n",
              "<table border=\"1\" class=\"dataframe\">\n",
              "  <thead>\n",
              "    <tr style=\"text-align: right;\">\n",
              "      <th></th>\n",
              "      <th>Data</th>\n",
              "      <th>Preco_Dolar</th>\n",
              "    </tr>\n",
              "  </thead>\n",
              "  <tbody>\n",
              "    <tr>\n",
              "      <th>0</th>\n",
              "      <td>2011-01-01</td>\n",
              "      <td>29.61</td>\n",
              "    </tr>\n",
              "    <tr>\n",
              "      <th>1</th>\n",
              "      <td>2011-02-01</td>\n",
              "      <td>29.54</td>\n",
              "    </tr>\n",
              "    <tr>\n",
              "      <th>2</th>\n",
              "      <td>2011-03-01</td>\n",
              "      <td>27.92</td>\n",
              "    </tr>\n",
              "    <tr>\n",
              "      <th>3</th>\n",
              "      <td>2011-04-01</td>\n",
              "      <td>27.98</td>\n",
              "    </tr>\n",
              "    <tr>\n",
              "      <th>4</th>\n",
              "      <td>2011-05-01</td>\n",
              "      <td>27.86</td>\n",
              "    </tr>\n",
              "  </tbody>\n",
              "</table>\n",
              "</div>"
            ],
            "text/plain": [
              "        Data  Preco_Dolar\n",
              "0 2011-01-01        29.61\n",
              "1 2011-02-01        29.54\n",
              "2 2011-03-01        27.92\n",
              "3 2011-04-01        27.98\n",
              "4 2011-05-01        27.86"
            ]
          },
          "metadata": {
            "tags": []
          },
          "execution_count": 7
        }
      ]
    },
    {
      "cell_type": "markdown",
      "metadata": {
        "id": "mm46VEka2eMl"
      },
      "source": [
        "Fazer uma breve análise dos dados"
      ]
    },
    {
      "cell_type": "code",
      "metadata": {
        "colab": {
          "base_uri": "https://localhost:8080/",
          "height": 297
        },
        "id": "s-l32Mu42c55",
        "outputId": "24e7e618-4d0b-48f8-8b7c-09530f9aa864"
      },
      "source": [
        "df.describe()"
      ],
      "execution_count": 8,
      "outputs": [
        {
          "output_type": "execute_result",
          "data": {
            "text/html": [
              "<div>\n",
              "<style scoped>\n",
              "    .dataframe tbody tr th:only-of-type {\n",
              "        vertical-align: middle;\n",
              "    }\n",
              "\n",
              "    .dataframe tbody tr th {\n",
              "        vertical-align: top;\n",
              "    }\n",
              "\n",
              "    .dataframe thead th {\n",
              "        text-align: right;\n",
              "    }\n",
              "</style>\n",
              "<table border=\"1\" class=\"dataframe\">\n",
              "  <thead>\n",
              "    <tr style=\"text-align: right;\">\n",
              "      <th></th>\n",
              "      <th>Preco_Dolar</th>\n",
              "    </tr>\n",
              "  </thead>\n",
              "  <tbody>\n",
              "    <tr>\n",
              "      <th>count</th>\n",
              "      <td>120.000000</td>\n",
              "    </tr>\n",
              "    <tr>\n",
              "      <th>mean</th>\n",
              "      <td>24.627750</td>\n",
              "    </tr>\n",
              "    <tr>\n",
              "      <th>std</th>\n",
              "      <td>5.219108</td>\n",
              "    </tr>\n",
              "    <tr>\n",
              "      <th>min</th>\n",
              "      <td>17.870000</td>\n",
              "    </tr>\n",
              "    <tr>\n",
              "      <th>25%</th>\n",
              "      <td>20.270000</td>\n",
              "    </tr>\n",
              "    <tr>\n",
              "      <th>50%</th>\n",
              "      <td>22.480000</td>\n",
              "    </tr>\n",
              "    <tr>\n",
              "      <th>75%</th>\n",
              "      <td>28.475000</td>\n",
              "    </tr>\n",
              "    <tr>\n",
              "      <th>max</th>\n",
              "      <td>40.900000</td>\n",
              "    </tr>\n",
              "  </tbody>\n",
              "</table>\n",
              "</div>"
            ],
            "text/plain": [
              "       Preco_Dolar\n",
              "count   120.000000\n",
              "mean     24.627750\n",
              "std       5.219108\n",
              "min      17.870000\n",
              "25%      20.270000\n",
              "50%      22.480000\n",
              "75%      28.475000\n",
              "max      40.900000"
            ]
          },
          "metadata": {
            "tags": []
          },
          "execution_count": 8
        }
      ]
    },
    {
      "cell_type": "markdown",
      "metadata": {
        "id": "Qn8lbqTqG31g"
      },
      "source": [
        "Agora que estamos com o formato correto dos dados vamos plotar a série temporal para já termos os primeiros insights de sazonalidade, outliers, tendêcias..."
      ]
    },
    {
      "cell_type": "code",
      "metadata": {
        "colab": {
          "base_uri": "https://localhost:8080/",
          "height": 295
        },
        "id": "kiqLMuv8HSan",
        "outputId": "09d0b198-6be1-4bc3-f85a-a52df564efc0"
      },
      "source": [
        "plt.plot('Data', 'Preco_Dolar', data=df)\r\n",
        "plt.title('Variação do preço da soja ao longo do tempo')\r\n",
        "plt.xlabel('Ano')\r\n",
        "plt.ylabel('Preço da Soja em Dólar')\r\n",
        "plt.show()"
      ],
      "execution_count": 9,
      "outputs": [
        {
          "output_type": "display_data",
          "data": {
            "image/png": "[encoded data removed]",
            "text/plain": [
              "<Figure size 432x288 with 1 Axes>"
            ]
          },
          "metadata": {
            "tags": [],
            "needs_background": "light"
          }
        }
      ]
    },
    {
      "cell_type": "markdown",
      "metadata": {
        "id": "L-MDNd6Lzv0k"
      },
      "source": [
        "Vamos utilizar o Prophet para a análise de séries temporais. Abaixo descrição da própria página do Facebook Prophet https://facebook.github.io/prophet/docs/quick_start.html"
      ]
    },
    {
      "cell_type": "markdown",
      "metadata": {
        "id": "dpi9nQr1kwEo"
      },
      "source": [
        "**Facebook Prophet**\r\n",
        "\r\n",
        "Prophet is a procedure for forecasting time series data based on an additive model where non-linear trends are fit with yearly, weekly, and daily seasonality, plus holiday effects. It works best with time series that have strong seasonal effects and several seasons of historical data. Prophet is robust to missing data and shifts in the trend, and typically handles outliers well.\r\n",
        "\r\n",
        "Prophet is open source software released by Facebook's Core Data Science team. "
      ]
    },
    {
      "cell_type": "markdown",
      "metadata": {
        "id": "rMrvpp_A0R0i"
      },
      "source": [
        "**Importação do Prophet**"
      ]
    },
    {
      "cell_type": "code",
      "metadata": {
        "id": "6FDJUGc4k1LY"
      },
      "source": [
        "from fbprophet import Prophet"
      ],
      "execution_count": 10,
      "outputs": []
    },
    {
      "cell_type": "markdown",
      "metadata": {
        "id": "A6IqEQHd2_0i"
      },
      "source": [
        "O prophet trabalha com duas colunas:\r\n",
        "\r\n",
        "*   ds: features temporais\r\n",
        "*   y: valores a serem preditos\r\n",
        "\r\n",
        "Então vamos renomer nossas colunas para a nomenclatura padrão\r\n",
        "\r\n",
        "\r\n",
        "\r\n",
        "\r\n",
        "\r\n"
      ]
    },
    {
      "cell_type": "code",
      "metadata": {
        "id": "IlCMzMIh3AlK"
      },
      "source": [
        "df.columns = ['ds', 'y']"
      ],
      "execution_count": 11,
      "outputs": []
    },
    {
      "cell_type": "code",
      "metadata": {
        "colab": {
          "base_uri": "https://localhost:8080/",
          "height": 204
        },
        "id": "udmurBW_4kTh",
        "outputId": "b1d3e456-c471-4b0b-a843-ead2fdd0e513"
      },
      "source": [
        "df.tail()"
      ],
      "execution_count": 12,
      "outputs": [
        {
          "output_type": "execute_result",
          "data": {
            "text/html": [
              "<div>\n",
              "<style scoped>\n",
              "    .dataframe tbody tr th:only-of-type {\n",
              "        vertical-align: middle;\n",
              "    }\n",
              "\n",
              "    .dataframe tbody tr th {\n",
              "        vertical-align: top;\n",
              "    }\n",
              "\n",
              "    .dataframe thead th {\n",
              "        text-align: right;\n",
              "    }\n",
              "</style>\n",
              "<table border=\"1\" class=\"dataframe\">\n",
              "  <thead>\n",
              "    <tr style=\"text-align: right;\">\n",
              "      <th></th>\n",
              "      <th>ds</th>\n",
              "      <th>y</th>\n",
              "    </tr>\n",
              "  </thead>\n",
              "  <tbody>\n",
              "    <tr>\n",
              "      <th>115</th>\n",
              "      <td>2020-08-01</td>\n",
              "      <td>22.44</td>\n",
              "    </tr>\n",
              "    <tr>\n",
              "      <th>116</th>\n",
              "      <td>2020-09-01</td>\n",
              "      <td>25.30</td>\n",
              "    </tr>\n",
              "    <tr>\n",
              "      <th>117</th>\n",
              "      <td>2020-10-01</td>\n",
              "      <td>28.14</td>\n",
              "    </tr>\n",
              "    <tr>\n",
              "      <th>118</th>\n",
              "      <td>2020-11-01</td>\n",
              "      <td>30.35</td>\n",
              "    </tr>\n",
              "    <tr>\n",
              "      <th>119</th>\n",
              "      <td>2020-12-01</td>\n",
              "      <td>28.23</td>\n",
              "    </tr>\n",
              "  </tbody>\n",
              "</table>\n",
              "</div>"
            ],
            "text/plain": [
              "            ds      y\n",
              "115 2020-08-01  22.44\n",
              "116 2020-09-01  25.30\n",
              "117 2020-10-01  28.14\n",
              "118 2020-11-01  30.35\n",
              "119 2020-12-01  28.23"
            ]
          },
          "metadata": {
            "tags": []
          },
          "execution_count": 12
        }
      ]
    },
    {
      "cell_type": "markdown",
      "metadata": {
        "id": "1Q1ofseWFW-S"
      },
      "source": [
        "**Dividir os dados entre treino e teste**"
      ]
    },
    {
      "cell_type": "code",
      "metadata": {
        "colab": {
          "base_uri": "https://localhost:8080/"
        },
        "id": "VhI-AcfE5AjD",
        "outputId": "868333dc-7acb-478e-ab3c-d1994a681d99"
      },
      "source": [
        "train = df[df['ds'] < \"2020-01-01\"]\r\n",
        "test = df[df['ds'] >= \"2020-01-01\"]\r\n",
        "train.shape, test.shape"
      ],
      "execution_count": 13,
      "outputs": [
        {
          "output_type": "execute_result",
          "data": {
            "text/plain": [
              "((108, 2), (12, 2))"
            ]
          },
          "metadata": {
            "tags": []
          },
          "execution_count": 13
        }
      ]
    },
    {
      "cell_type": "code",
      "metadata": {
        "colab": {
          "base_uri": "https://localhost:8080/",
          "height": 204
        },
        "id": "HUmSq_Dc4uLv",
        "outputId": "8e4b6e11-4eff-4677-b594-153248a7c530"
      },
      "source": [
        "train.head()"
      ],
      "execution_count": 14,
      "outputs": [
        {
          "output_type": "execute_result",
          "data": {
            "text/html": [
              "<div>\n",
              "<style scoped>\n",
              "    .dataframe tbody tr th:only-of-type {\n",
              "        vertical-align: middle;\n",
              "    }\n",
              "\n",
              "    .dataframe tbody tr th {\n",
              "        vertical-align: top;\n",
              "    }\n",
              "\n",
              "    .dataframe thead th {\n",
              "        text-align: right;\n",
              "    }\n",
              "</style>\n",
              "<table border=\"1\" class=\"dataframe\">\n",
              "  <thead>\n",
              "    <tr style=\"text-align: right;\">\n",
              "      <th></th>\n",
              "      <th>ds</th>\n",
              "      <th>y</th>\n",
              "    </tr>\n",
              "  </thead>\n",
              "  <tbody>\n",
              "    <tr>\n",
              "      <th>0</th>\n",
              "      <td>2011-01-01</td>\n",
              "      <td>29.61</td>\n",
              "    </tr>\n",
              "    <tr>\n",
              "      <th>1</th>\n",
              "      <td>2011-02-01</td>\n",
              "      <td>29.54</td>\n",
              "    </tr>\n",
              "    <tr>\n",
              "      <th>2</th>\n",
              "      <td>2011-03-01</td>\n",
              "      <td>27.92</td>\n",
              "    </tr>\n",
              "    <tr>\n",
              "      <th>3</th>\n",
              "      <td>2011-04-01</td>\n",
              "      <td>27.98</td>\n",
              "    </tr>\n",
              "    <tr>\n",
              "      <th>4</th>\n",
              "      <td>2011-05-01</td>\n",
              "      <td>27.86</td>\n",
              "    </tr>\n",
              "  </tbody>\n",
              "</table>\n",
              "</div>"
            ],
            "text/plain": [
              "          ds      y\n",
              "0 2011-01-01  29.61\n",
              "1 2011-02-01  29.54\n",
              "2 2011-03-01  27.92\n",
              "3 2011-04-01  27.98\n",
              "4 2011-05-01  27.86"
            ]
          },
          "metadata": {
            "tags": []
          },
          "execution_count": 14
        }
      ]
    },
    {
      "cell_type": "code",
      "metadata": {
        "colab": {
          "base_uri": "https://localhost:8080/",
          "height": 204
        },
        "id": "IUabWqFC4ubs",
        "outputId": "685e13cd-32fe-4fe8-80d0-c524ab1727c9"
      },
      "source": [
        "test.head()"
      ],
      "execution_count": 15,
      "outputs": [
        {
          "output_type": "execute_result",
          "data": {
            "text/html": [
              "<div>\n",
              "<style scoped>\n",
              "    .dataframe tbody tr th:only-of-type {\n",
              "        vertical-align: middle;\n",
              "    }\n",
              "\n",
              "    .dataframe tbody tr th {\n",
              "        vertical-align: top;\n",
              "    }\n",
              "\n",
              "    .dataframe thead th {\n",
              "        text-align: right;\n",
              "    }\n",
              "</style>\n",
              "<table border=\"1\" class=\"dataframe\">\n",
              "  <thead>\n",
              "    <tr style=\"text-align: right;\">\n",
              "      <th></th>\n",
              "      <th>ds</th>\n",
              "      <th>y</th>\n",
              "    </tr>\n",
              "  </thead>\n",
              "  <tbody>\n",
              "    <tr>\n",
              "      <th>108</th>\n",
              "      <td>2020-01-01</td>\n",
              "      <td>19.91</td>\n",
              "    </tr>\n",
              "    <tr>\n",
              "      <th>109</th>\n",
              "      <td>2020-02-01</td>\n",
              "      <td>18.74</td>\n",
              "    </tr>\n",
              "    <tr>\n",
              "      <th>110</th>\n",
              "      <td>2020-03-01</td>\n",
              "      <td>18.04</td>\n",
              "    </tr>\n",
              "    <tr>\n",
              "      <th>111</th>\n",
              "      <td>2020-04-01</td>\n",
              "      <td>17.87</td>\n",
              "    </tr>\n",
              "    <tr>\n",
              "      <th>112</th>\n",
              "      <td>2020-05-01</td>\n",
              "      <td>18.33</td>\n",
              "    </tr>\n",
              "  </tbody>\n",
              "</table>\n",
              "</div>"
            ],
            "text/plain": [
              "            ds      y\n",
              "108 2020-01-01  19.91\n",
              "109 2020-02-01  18.74\n",
              "110 2020-03-01  18.04\n",
              "111 2020-04-01  17.87\n",
              "112 2020-05-01  18.33"
            ]
          },
          "metadata": {
            "tags": []
          },
          "execution_count": 15
        }
      ]
    },
    {
      "cell_type": "code",
      "metadata": {
        "colab": {
          "base_uri": "https://localhost:8080/"
        },
        "id": "ov2INcM5Fwa2",
        "outputId": "b91f7b10-4637-4433-fd7e-3b6eca4ac721"
      },
      "source": [
        "test.dtypes"
      ],
      "execution_count": 16,
      "outputs": [
        {
          "output_type": "execute_result",
          "data": {
            "text/plain": [
              "ds    datetime64[ns]\n",
              "y            float64\n",
              "dtype: object"
            ]
          },
          "metadata": {
            "tags": []
          },
          "execution_count": 16
        }
      ]
    },
    {
      "cell_type": "code",
      "metadata": {
        "colab": {
          "base_uri": "https://localhost:8080/",
          "height": 421
        },
        "id": "0O0aoFlJmX33",
        "outputId": "2420a71e-c545-4c0a-b810-2d2c3cd3379f"
      },
      "source": [
        "test.tail(30)"
      ],
      "execution_count": 17,
      "outputs": [
        {
          "output_type": "execute_result",
          "data": {
            "text/html": [
              "<div>\n",
              "<style scoped>\n",
              "    .dataframe tbody tr th:only-of-type {\n",
              "        vertical-align: middle;\n",
              "    }\n",
              "\n",
              "    .dataframe tbody tr th {\n",
              "        vertical-align: top;\n",
              "    }\n",
              "\n",
              "    .dataframe thead th {\n",
              "        text-align: right;\n",
              "    }\n",
              "</style>\n",
              "<table border=\"1\" class=\"dataframe\">\n",
              "  <thead>\n",
              "    <tr style=\"text-align: right;\">\n",
              "      <th></th>\n",
              "      <th>ds</th>\n",
              "      <th>y</th>\n",
              "    </tr>\n",
              "  </thead>\n",
              "  <tbody>\n",
              "    <tr>\n",
              "      <th>108</th>\n",
              "      <td>2020-01-01</td>\n",
              "      <td>19.91</td>\n",
              "    </tr>\n",
              "    <tr>\n",
              "      <th>109</th>\n",
              "      <td>2020-02-01</td>\n",
              "      <td>18.74</td>\n",
              "    </tr>\n",
              "    <tr>\n",
              "      <th>110</th>\n",
              "      <td>2020-03-01</td>\n",
              "      <td>18.04</td>\n",
              "    </tr>\n",
              "    <tr>\n",
              "      <th>111</th>\n",
              "      <td>2020-04-01</td>\n",
              "      <td>17.87</td>\n",
              "    </tr>\n",
              "    <tr>\n",
              "      <th>112</th>\n",
              "      <td>2020-05-01</td>\n",
              "      <td>18.33</td>\n",
              "    </tr>\n",
              "    <tr>\n",
              "      <th>113</th>\n",
              "      <td>2020-06-01</td>\n",
              "      <td>19.89</td>\n",
              "    </tr>\n",
              "    <tr>\n",
              "      <th>114</th>\n",
              "      <td>2020-07-01</td>\n",
              "      <td>20.74</td>\n",
              "    </tr>\n",
              "    <tr>\n",
              "      <th>115</th>\n",
              "      <td>2020-08-01</td>\n",
              "      <td>22.44</td>\n",
              "    </tr>\n",
              "    <tr>\n",
              "      <th>116</th>\n",
              "      <td>2020-09-01</td>\n",
              "      <td>25.30</td>\n",
              "    </tr>\n",
              "    <tr>\n",
              "      <th>117</th>\n",
              "      <td>2020-10-01</td>\n",
              "      <td>28.14</td>\n",
              "    </tr>\n",
              "    <tr>\n",
              "      <th>118</th>\n",
              "      <td>2020-11-01</td>\n",
              "      <td>30.35</td>\n",
              "    </tr>\n",
              "    <tr>\n",
              "      <th>119</th>\n",
              "      <td>2020-12-01</td>\n",
              "      <td>28.23</td>\n",
              "    </tr>\n",
              "  </tbody>\n",
              "</table>\n",
              "</div>"
            ],
            "text/plain": [
              "            ds      y\n",
              "108 2020-01-01  19.91\n",
              "109 2020-02-01  18.74\n",
              "110 2020-03-01  18.04\n",
              "111 2020-04-01  17.87\n",
              "112 2020-05-01  18.33\n",
              "113 2020-06-01  19.89\n",
              "114 2020-07-01  20.74\n",
              "115 2020-08-01  22.44\n",
              "116 2020-09-01  25.30\n",
              "117 2020-10-01  28.14\n",
              "118 2020-11-01  30.35\n",
              "119 2020-12-01  28.23"
            ]
          },
          "metadata": {
            "tags": []
          },
          "execution_count": 17
        }
      ]
    },
    {
      "cell_type": "markdown",
      "metadata": {
        "id": "i9IEhOiq0nfH"
      },
      "source": [
        "Antes de rodar o modelo Prophet vamos criar uma baseline para servir de comparação dos resultados"
      ]
    },
    {
      "cell_type": "markdown",
      "metadata": {
        "id": "I82MUIbQBocK"
      },
      "source": [
        "**Baseline**\r\n",
        "\r\n",
        "Vamos usar como baseline o preço do período anterior"
      ]
    },
    {
      "cell_type": "code",
      "metadata": {
        "colab": {
          "base_uri": "https://localhost:8080/"
        },
        "id": "EdoWUP6mC559",
        "outputId": "3453da48-128e-4c4f-c27e-685ce700ad9f"
      },
      "source": [
        "# obtem todos od dados do treino \r\n",
        "history = [x for x in train['y']]\r\n",
        "\r\n",
        "# cria lista de previsões\r\n",
        "predictions = list()\r\n",
        "\r\n",
        "# aplicando o modelo naive\r\n",
        "for i in range(len(test)):\r\n",
        "  \r\n",
        "  # valor_predito recebe o último valor do conjunto de treino\r\n",
        "  valor_predito = history[-1]\r\n",
        "  \r\n",
        "  # a primeira previsão é o último valor do conjunto de treino\r\n",
        "  predictions.append(valor_predito)\r\n",
        "  \r\n",
        "  # valor real recebe o valor atual do teste.\r\n",
        "  valor_real = test['y'].values[i]\r\n",
        "  \r\n",
        "  # adiciona o valor real para a lista de historico\r\n",
        "  history.append(valor_real)\r\n",
        "  \r\n",
        "  # imprime valor predito e valor real..\r\n",
        "  print('Valor Predito=%.3f, Valor Esperado=%.3f' % (valor_predito, valor_real))"
      ],
      "execution_count": 18,
      "outputs": [
        {
          "output_type": "stream",
          "text": [
            "Valor Predito=20.270, Valor Esperado=19.910\n",
            "Valor Predito=19.910, Valor Esperado=18.740\n",
            "Valor Predito=18.740, Valor Esperado=18.040\n",
            "Valor Predito=18.040, Valor Esperado=17.870\n",
            "Valor Predito=17.870, Valor Esperado=18.330\n",
            "Valor Predito=18.330, Valor Esperado=19.890\n",
            "Valor Predito=19.890, Valor Esperado=20.740\n",
            "Valor Predito=20.740, Valor Esperado=22.440\n",
            "Valor Predito=22.440, Valor Esperado=25.300\n",
            "Valor Predito=25.300, Valor Esperado=28.140\n",
            "Valor Predito=28.140, Valor Esperado=30.350\n",
            "Valor Predito=30.350, Valor Esperado=28.230\n"
          ],
          "name": "stdout"
        }
      ]
    },
    {
      "cell_type": "markdown",
      "metadata": {
        "id": "SZI39Okg-Tsh"
      },
      "source": [
        "**A métrica de erro selecionada foi a RMSLE (root mean squared log error)**\r\n",
        "\r\n",
        "RMSLE incurs a larger penalty for the underestimation of the Actual variable than the Overestimation.Thi is especially useful for business cases where the underestimation of the target variable is not acceptable but overestimation can be tolerated.\r\n",
        "In the case of RMSE, the presence of outliers can explode the error term to a very high value. But, in the case of RMLSE the outliers are drastically scaled down therefore nullifying their effect.\r\n",
        "RMSLE metric only considers the relative error between and the Predicted and the actual value and the scale of the error is not significant. On the other hand, RMSE value Increases in magnitude if the scale of error increases.\r\n"
      ]
    },
    {
      "cell_type": "code",
      "metadata": {
        "colab": {
          "base_uri": "https://localhost:8080/"
        },
        "id": "Bvwe0-YKDaBM",
        "outputId": "99898a6f-785f-4e3f-a106-5c404b60473d"
      },
      "source": [
        "from pandas import DataFrame\r\n",
        "\r\n",
        "from sklearn.metrics import mean_squared_log_error\r\n",
        "\r\n",
        "np.sqrt(mean_squared_log_error(test['y'], DataFrame(predictions,columns=['ypred'])))"
      ],
      "execution_count": 19,
      "outputs": [
        {
          "output_type": "execute_result",
          "data": {
            "text/plain": [
              "0.06637602443446745"
            ]
          },
          "metadata": {
            "tags": []
          },
          "execution_count": 19
        }
      ]
    },
    {
      "cell_type": "markdown",
      "metadata": {
        "id": "RbqdkN8-BNiO"
      },
      "source": [
        "Essa métrica pode ser interpretada como 6.63% de erro entre os valores preditos e reais.\r\n",
        "\r\n",
        "\r\n"
      ]
    },
    {
      "cell_type": "markdown",
      "metadata": {
        "id": "ftJAFZpx6pxr"
      },
      "source": [
        "Para melhor visualização vamos plotar um gráfico comparando os valores estipulados na baseline com os valores reais do período de teste"
      ]
    },
    {
      "cell_type": "code",
      "metadata": {
        "id": "A3Fi7c-41p5f"
      },
      "source": [
        "Xtrain, ytrain = train.drop(['y'], axis=1).reset_index(drop=True), train['y'].reset_index(drop=True)\r\n",
        "Xtest, ytest = test.drop(['y'], axis=1).reset_index(drop=True), test['y'].reset_index(drop=True)"
      ],
      "execution_count": 20,
      "outputs": []
    },
    {
      "cell_type": "code",
      "metadata": {
        "colab": {
          "base_uri": "https://localhost:8080/",
          "height": 461
        },
        "id": "8YPjFRB8zYKw",
        "outputId": "906da127-f5e5-464e-ba12-7f0582fe91ee"
      },
      "source": [
        "fig, ax = pylab.subplots(1,1, figsize=(12,7))\r\n",
        "ax.plot(ytest, label = 'Y')\r\n",
        "axt = ax.twinx()\r\n",
        "axt.plot(predictions, color = 'orange', alpha = 0.7, label='Previsões')\r\n",
        "axt.set(title='Comparação dos preços previsto e real na base teste',\r\n",
        "        ylabel='Preço da Soja em Dólar')\r\n",
        "axt.legend()"
      ],
      "execution_count": 21,
      "outputs": [
        {
          "output_type": "execute_result",
          "data": {
            "text/plain": [
              "<matplotlib.legend.Legend at 0x7f7d743e1c88>"
            ]
          },
          "metadata": {
            "tags": []
          },
          "execution_count": 21
        },
        {
          "output_type": "display_data",
          "data": {
            "image/png": "[encoded data removed]",
            "text/plain": [
              "<Figure size 864x504 with 2 Axes>"
            ]
          },
          "metadata": {
            "tags": [],
            "needs_background": "light"
          }
        }
      ]
    },
    {
      "cell_type": "markdown",
      "metadata": {
        "id": "_8_cuzTt6-yo"
      },
      "source": [
        "Como podemos observar pelo gráfico e pelo erro, a utilização do valor do período anterior para previsão do próximo período parece ser um bom \"chute\" inicial. O objetivo agora é criar um modelo que consiga bater essa baseline. Vamos testar o uso do Prophet, procedimento criado pelo Facebook para previsão de time series."
      ]
    },
    {
      "cell_type": "markdown",
      "metadata": {
        "id": "q8DXUL8k9Q_F"
      },
      "source": [
        "**Primeiro passo é instanciar um objeto Prophet**\r\n",
        "\r\n",
        "\r\n"
      ]
    },
    {
      "cell_type": "code",
      "metadata": {
        "id": "hAFA0gfinVTS"
      },
      "source": [
        "m = Prophet()"
      ],
      "execution_count": 22,
      "outputs": []
    },
    {
      "cell_type": "markdown",
      "metadata": {
        "id": "eu0w7owl9hb0"
      },
      "source": [
        "**Criar o modelo**\r\n",
        "\r\n",
        "Vamos agora gerar um modelo em cima da nossa base de treino"
      ]
    },
    {
      "cell_type": "code",
      "metadata": {
        "id": "B8oHetSrpyhN",
        "colab": {
          "base_uri": "https://localhost:8080/"
        },
        "outputId": "555b1ee0-8e22-4dfa-b1b5-e0d95b177f1c"
      },
      "source": [
        "m.fit(train)"
      ],
      "execution_count": 23,
      "outputs": [
        {
          "output_type": "stream",
          "text": [
            "INFO:numexpr.utils:NumExpr defaulting to 2 threads.\n",
            "INFO:fbprophet:Disabling weekly seasonality. Run prophet with weekly_seasonality=True to override this.\n",
            "INFO:fbprophet:Disabling daily seasonality. Run prophet with daily_seasonality=True to override this.\n"
          ],
          "name": "stderr"
        },
        {
          "output_type": "execute_result",
          "data": {
            "text/plain": [
              "<fbprophet.forecaster.Prophet at 0x7f7d7509ae10>"
            ]
          },
          "metadata": {
            "tags": []
          },
          "execution_count": 23
        }
      ]
    },
    {
      "cell_type": "markdown",
      "metadata": {
        "id": "OGHhJJFr9zb2"
      },
      "source": [
        "A partir do modelo treinado podemo prever períodos futuros, sendo o perído definido pelo parâmetro frequência, que utiliza os mesmos padrões de frequência do pandas https://pandas.pydata.org/pandas-docs/stable/user_guide/timeseries.html#dateoffset-objects"
      ]
    },
    {
      "cell_type": "code",
      "metadata": {
        "id": "jU312g7NnjrI"
      },
      "source": [
        "future = m.make_future_dataframe(periods = 12, freq='MS')"
      ],
      "execution_count": 24,
      "outputs": []
    },
    {
      "cell_type": "code",
      "metadata": {
        "id": "SSS8hMaqqF08",
        "colab": {
          "base_uri": "https://localhost:8080/",
          "height": 419
        },
        "outputId": "ae988ed6-2422-4189-b7ef-6beea49dbafb"
      },
      "source": [
        "future"
      ],
      "execution_count": 25,
      "outputs": [
        {
          "output_type": "execute_result",
          "data": {
            "text/html": [
              "<div>\n",
              "<style scoped>\n",
              "    .dataframe tbody tr th:only-of-type {\n",
              "        vertical-align: middle;\n",
              "    }\n",
              "\n",
              "    .dataframe tbody tr th {\n",
              "        vertical-align: top;\n",
              "    }\n",
              "\n",
              "    .dataframe thead th {\n",
              "        text-align: right;\n",
              "    }\n",
              "</style>\n",
              "<table border=\"1\" class=\"dataframe\">\n",
              "  <thead>\n",
              "    <tr style=\"text-align: right;\">\n",
              "      <th></th>\n",
              "      <th>ds</th>\n",
              "    </tr>\n",
              "  </thead>\n",
              "  <tbody>\n",
              "    <tr>\n",
              "      <th>0</th>\n",
              "      <td>2011-01-01</td>\n",
              "    </tr>\n",
              "    <tr>\n",
              "      <th>1</th>\n",
              "      <td>2011-02-01</td>\n",
              "    </tr>\n",
              "    <tr>\n",
              "      <th>2</th>\n",
              "      <td>2011-03-01</td>\n",
              "    </tr>\n",
              "    <tr>\n",
              "      <th>3</th>\n",
              "      <td>2011-04-01</td>\n",
              "    </tr>\n",
              "    <tr>\n",
              "      <th>4</th>\n",
              "      <td>2011-05-01</td>\n",
              "    </tr>\n",
              "    <tr>\n",
              "      <th>...</th>\n",
              "      <td>...</td>\n",
              "    </tr>\n",
              "    <tr>\n",
              "      <th>115</th>\n",
              "      <td>2020-08-01</td>\n",
              "    </tr>\n",
              "    <tr>\n",
              "      <th>116</th>\n",
              "      <td>2020-09-01</td>\n",
              "    </tr>\n",
              "    <tr>\n",
              "      <th>117</th>\n",
              "      <td>2020-10-01</td>\n",
              "    </tr>\n",
              "    <tr>\n",
              "      <th>118</th>\n",
              "      <td>2020-11-01</td>\n",
              "    </tr>\n",
              "    <tr>\n",
              "      <th>119</th>\n",
              "      <td>2020-12-01</td>\n",
              "    </tr>\n",
              "  </tbody>\n",
              "</table>\n",
              "<p>120 rows × 1 columns</p>\n",
              "</div>"
            ],
            "text/plain": [
              "            ds\n",
              "0   2011-01-01\n",
              "1   2011-02-01\n",
              "2   2011-03-01\n",
              "3   2011-04-01\n",
              "4   2011-05-01\n",
              "..         ...\n",
              "115 2020-08-01\n",
              "116 2020-09-01\n",
              "117 2020-10-01\n",
              "118 2020-11-01\n",
              "119 2020-12-01\n",
              "\n",
              "[120 rows x 1 columns]"
            ]
          },
          "metadata": {
            "tags": []
          },
          "execution_count": 25
        }
      ]
    },
    {
      "cell_type": "markdown",
      "metadata": {
        "id": "uNEqpefC_fZD"
      },
      "source": [
        "Como podemos observar o método 'Prophet.make_future_dataframe' cria um dataframe com as datas que queremos fazer as previsões. Agora utilizamos o método 'predict' para calcular e atribuir o valor predito para cada data, assim como seus intervalos de incerteza. "
      ]
    },
    {
      "cell_type": "markdown",
      "metadata": {
        "id": "FfOeXoZl48Rs"
      },
      "source": [
        "**Previsões**"
      ]
    },
    {
      "cell_type": "code",
      "metadata": {
        "id": "vE4u8inlqiJr"
      },
      "source": [
        "forecast = m.predict(future)"
      ],
      "execution_count": 26,
      "outputs": []
    },
    {
      "cell_type": "code",
      "metadata": {
        "id": "bAdbOcqAzZLt",
        "colab": {
          "base_uri": "https://localhost:8080/",
          "height": 394
        },
        "outputId": "8160e15b-bfb8-4a4c-b9e5-1cf468adc630"
      },
      "source": [
        "forecast.head()"
      ],
      "execution_count": 27,
      "outputs": [
        {
          "output_type": "execute_result",
          "data": {
            "text/html": [
              "<div>\n",
              "<style scoped>\n",
              "    .dataframe tbody tr th:only-of-type {\n",
              "        vertical-align: middle;\n",
              "    }\n",
              "\n",
              "    .dataframe tbody tr th {\n",
              "        vertical-align: top;\n",
              "    }\n",
              "\n",
              "    .dataframe thead th {\n",
              "        text-align: right;\n",
              "    }\n",
              "</style>\n",
              "<table border=\"1\" class=\"dataframe\">\n",
              "  <thead>\n",
              "    <tr style=\"text-align: right;\">\n",
              "      <th></th>\n",
              "      <th>ds</th>\n",
              "      <th>trend</th>\n",
              "      <th>yhat_lower</th>\n",
              "      <th>yhat_upper</th>\n",
              "      <th>trend_lower</th>\n",
              "      <th>trend_upper</th>\n",
              "      <th>additive_terms</th>\n",
              "      <th>additive_terms_lower</th>\n",
              "      <th>additive_terms_upper</th>\n",
              "      <th>yearly</th>\n",
              "      <th>yearly_lower</th>\n",
              "      <th>yearly_upper</th>\n",
              "      <th>multiplicative_terms</th>\n",
              "      <th>multiplicative_terms_lower</th>\n",
              "      <th>multiplicative_terms_upper</th>\n",
              "      <th>yhat</th>\n",
              "    </tr>\n",
              "  </thead>\n",
              "  <tbody>\n",
              "    <tr>\n",
              "      <th>0</th>\n",
              "      <td>2011-01-01</td>\n",
              "      <td>31.616209</td>\n",
              "      <td>26.572176</td>\n",
              "      <td>34.604576</td>\n",
              "      <td>31.616209</td>\n",
              "      <td>31.616209</td>\n",
              "      <td>-1.052267</td>\n",
              "      <td>-1.052267</td>\n",
              "      <td>-1.052267</td>\n",
              "      <td>-1.052267</td>\n",
              "      <td>-1.052267</td>\n",
              "      <td>-1.052267</td>\n",
              "      <td>0.0</td>\n",
              "      <td>0.0</td>\n",
              "      <td>0.0</td>\n",
              "      <td>30.563942</td>\n",
              "    </tr>\n",
              "    <tr>\n",
              "      <th>1</th>\n",
              "      <td>2011-02-01</td>\n",
              "      <td>31.501849</td>\n",
              "      <td>26.226697</td>\n",
              "      <td>33.986119</td>\n",
              "      <td>31.501849</td>\n",
              "      <td>31.501849</td>\n",
              "      <td>-1.156138</td>\n",
              "      <td>-1.156138</td>\n",
              "      <td>-1.156138</td>\n",
              "      <td>-1.156138</td>\n",
              "      <td>-1.156138</td>\n",
              "      <td>-1.156138</td>\n",
              "      <td>0.0</td>\n",
              "      <td>0.0</td>\n",
              "      <td>0.0</td>\n",
              "      <td>30.345711</td>\n",
              "    </tr>\n",
              "    <tr>\n",
              "      <th>2</th>\n",
              "      <td>2011-03-01</td>\n",
              "      <td>31.398556</td>\n",
              "      <td>26.548961</td>\n",
              "      <td>34.418638</td>\n",
              "      <td>31.398556</td>\n",
              "      <td>31.398556</td>\n",
              "      <td>-0.904860</td>\n",
              "      <td>-0.904860</td>\n",
              "      <td>-0.904860</td>\n",
              "      <td>-0.904860</td>\n",
              "      <td>-0.904860</td>\n",
              "      <td>-0.904860</td>\n",
              "      <td>0.0</td>\n",
              "      <td>0.0</td>\n",
              "      <td>0.0</td>\n",
              "      <td>30.493696</td>\n",
              "    </tr>\n",
              "    <tr>\n",
              "      <th>3</th>\n",
              "      <td>2011-04-01</td>\n",
              "      <td>31.284196</td>\n",
              "      <td>26.705060</td>\n",
              "      <td>34.854532</td>\n",
              "      <td>31.284196</td>\n",
              "      <td>31.284196</td>\n",
              "      <td>-0.626895</td>\n",
              "      <td>-0.626895</td>\n",
              "      <td>-0.626895</td>\n",
              "      <td>-0.626895</td>\n",
              "      <td>-0.626895</td>\n",
              "      <td>-0.626895</td>\n",
              "      <td>0.0</td>\n",
              "      <td>0.0</td>\n",
              "      <td>0.0</td>\n",
              "      <td>30.657301</td>\n",
              "    </tr>\n",
              "    <tr>\n",
              "      <th>4</th>\n",
              "      <td>2011-05-01</td>\n",
              "      <td>31.173525</td>\n",
              "      <td>26.944462</td>\n",
              "      <td>35.086810</td>\n",
              "      <td>31.173525</td>\n",
              "      <td>31.173525</td>\n",
              "      <td>-0.412852</td>\n",
              "      <td>-0.412852</td>\n",
              "      <td>-0.412852</td>\n",
              "      <td>-0.412852</td>\n",
              "      <td>-0.412852</td>\n",
              "      <td>-0.412852</td>\n",
              "      <td>0.0</td>\n",
              "      <td>0.0</td>\n",
              "      <td>0.0</td>\n",
              "      <td>30.760673</td>\n",
              "    </tr>\n",
              "  </tbody>\n",
              "</table>\n",
              "</div>"
            ],
            "text/plain": [
              "          ds      trend  ...  multiplicative_terms_upper       yhat\n",
              "0 2011-01-01  31.616209  ...                         0.0  30.563942\n",
              "1 2011-02-01  31.501849  ...                         0.0  30.345711\n",
              "2 2011-03-01  31.398556  ...                         0.0  30.493696\n",
              "3 2011-04-01  31.284196  ...                         0.0  30.657301\n",
              "4 2011-05-01  31.173525  ...                         0.0  30.760673\n",
              "\n",
              "[5 rows x 16 columns]"
            ]
          },
          "metadata": {
            "tags": []
          },
          "execution_count": 27
        }
      ]
    },
    {
      "cell_type": "code",
      "metadata": {
        "id": "pu092J8cq5D1",
        "colab": {
          "base_uri": "https://localhost:8080/",
          "height": 204
        },
        "outputId": "ef880e70-df0f-4a9c-86f5-f96ebf3e1027"
      },
      "source": [
        "forecast[['ds', 'yhat', 'yhat_lower', 'yhat_upper']].tail()"
      ],
      "execution_count": 28,
      "outputs": [
        {
          "output_type": "execute_result",
          "data": {
            "text/html": [
              "<div>\n",
              "<style scoped>\n",
              "    .dataframe tbody tr th:only-of-type {\n",
              "        vertical-align: middle;\n",
              "    }\n",
              "\n",
              "    .dataframe tbody tr th {\n",
              "        vertical-align: top;\n",
              "    }\n",
              "\n",
              "    .dataframe thead th {\n",
              "        text-align: right;\n",
              "    }\n",
              "</style>\n",
              "<table border=\"1\" class=\"dataframe\">\n",
              "  <thead>\n",
              "    <tr style=\"text-align: right;\">\n",
              "      <th></th>\n",
              "      <th>ds</th>\n",
              "      <th>yhat</th>\n",
              "      <th>yhat_lower</th>\n",
              "      <th>yhat_upper</th>\n",
              "    </tr>\n",
              "  </thead>\n",
              "  <tbody>\n",
              "    <tr>\n",
              "      <th>115</th>\n",
              "      <td>2020-08-01</td>\n",
              "      <td>18.290439</td>\n",
              "      <td>14.362441</td>\n",
              "      <td>22.392996</td>\n",
              "    </tr>\n",
              "    <tr>\n",
              "      <th>116</th>\n",
              "      <td>2020-09-01</td>\n",
              "      <td>18.144981</td>\n",
              "      <td>14.100654</td>\n",
              "      <td>22.170359</td>\n",
              "    </tr>\n",
              "    <tr>\n",
              "      <th>117</th>\n",
              "      <td>2020-10-01</td>\n",
              "      <td>17.590668</td>\n",
              "      <td>13.387442</td>\n",
              "      <td>21.954094</td>\n",
              "    </tr>\n",
              "    <tr>\n",
              "      <th>118</th>\n",
              "      <td>2020-11-01</td>\n",
              "      <td>17.203006</td>\n",
              "      <td>13.092375</td>\n",
              "      <td>21.265208</td>\n",
              "    </tr>\n",
              "    <tr>\n",
              "      <th>119</th>\n",
              "      <td>2020-12-01</td>\n",
              "      <td>16.862642</td>\n",
              "      <td>13.136903</td>\n",
              "      <td>20.995814</td>\n",
              "    </tr>\n",
              "  </tbody>\n",
              "</table>\n",
              "</div>"
            ],
            "text/plain": [
              "            ds       yhat  yhat_lower  yhat_upper\n",
              "115 2020-08-01  18.290439   14.362441   22.392996\n",
              "116 2020-09-01  18.144981   14.100654   22.170359\n",
              "117 2020-10-01  17.590668   13.387442   21.954094\n",
              "118 2020-11-01  17.203006   13.092375   21.265208\n",
              "119 2020-12-01  16.862642   13.136903   20.995814"
            ]
          },
          "metadata": {
            "tags": []
          },
          "execution_count": 28
        }
      ]
    },
    {
      "cell_type": "markdown",
      "metadata": {
        "id": "FFrJR5CN5LYi"
      },
      "source": [
        "**Plotar gráficos de forecast e dos componentes**"
      ]
    },
    {
      "cell_type": "markdown",
      "metadata": {
        "id": "HM1W6eLCBbcu"
      },
      "source": [
        "O método 'plot' plota os dados de forecast, incluindo os dados históricos usados para treino."
      ]
    },
    {
      "cell_type": "code",
      "metadata": {
        "colab": {
          "base_uri": "https://localhost:8080/",
          "height": 441
        },
        "id": "sIgXohZhw2IR",
        "outputId": "e512b951-23e2-4c26-eb3a-00380a400afa"
      },
      "source": [
        "fig1 = m.plot(forecast)"
      ],
      "execution_count": 29,
      "outputs": [
        {
          "output_type": "display_data",
          "data": {
            "image/png": "[encoded data removed]",
            "text/plain": [
              "<Figure size 720x432 with 1 Axes>"
            ]
          },
          "metadata": {
            "tags": []
          }
        }
      ]
    },
    {
      "cell_type": "markdown",
      "metadata": {
        "id": "D3ihLyq3B9TU"
      },
      "source": [
        "O método 'plot_components' plota os componetes de tendência e sazonalidade (anual, mensal, diária, feriados etc) da time series."
      ]
    },
    {
      "cell_type": "code",
      "metadata": {
        "colab": {
          "base_uri": "https://localhost:8080/",
          "height": 441
        },
        "id": "e3LkYfB0x38z",
        "outputId": "606f6ebe-e838-4390-f3b0-e4c65a2683ee"
      },
      "source": [
        "fig2 = m.plot_components(forecast)"
      ],
      "execution_count": 30,
      "outputs": [
        {
          "output_type": "display_data",
          "data": {
            "image/png": "[encoded data removed]",
            "text/plain": [
              "<Figure size 648x432 with 2 Axes>"
            ]
          },
          "metadata": {
            "tags": []
          }
        }
      ]
    },
    {
      "cell_type": "code",
      "metadata": {
        "colab": {
          "base_uri": "https://localhost:8080/"
        },
        "id": "uubdFWwCzimv",
        "outputId": "c040d26e-994c-4a30-b225-8fbaeb4f9d03"
      },
      "source": [
        "len(forecast['yhat'])"
      ],
      "execution_count": 31,
      "outputs": [
        {
          "output_type": "execute_result",
          "data": {
            "text/plain": [
              "120"
            ]
          },
          "metadata": {
            "tags": []
          },
          "execution_count": 31
        }
      ]
    },
    {
      "cell_type": "markdown",
      "metadata": {
        "id": "fHaCJ8cE0ao2"
      },
      "source": [
        "# Validando o modelo com Prophet"
      ]
    },
    {
      "cell_type": "markdown",
      "metadata": {
        "id": "svbFIgjU6Jw2"
      },
      "source": [
        "Aplicando o modelo do prophet à base de teste"
      ]
    },
    {
      "cell_type": "code",
      "metadata": {
        "id": "SX2UA_TO0apL"
      },
      "source": [
        "test_forecast = m.predict(test)"
      ],
      "execution_count": 32,
      "outputs": []
    },
    {
      "cell_type": "markdown",
      "metadata": {
        "id": "_9SEF-c96QQy"
      },
      "source": [
        "Imprimir as saidas"
      ]
    },
    {
      "cell_type": "code",
      "metadata": {
        "colab": {
          "base_uri": "https://localhost:8080/",
          "height": 421
        },
        "id": "ptIikM9E0apM",
        "outputId": "0ea4481e-aa86-41d2-d366-ffb607ffa4e2"
      },
      "source": [
        "test_forecast[['ds', 'yhat', 'yhat_lower', 'yhat_upper']]"
      ],
      "execution_count": 33,
      "outputs": [
        {
          "output_type": "execute_result",
          "data": {
            "text/html": [
              "<div>\n",
              "<style scoped>\n",
              "    .dataframe tbody tr th:only-of-type {\n",
              "        vertical-align: middle;\n",
              "    }\n",
              "\n",
              "    .dataframe tbody tr th {\n",
              "        vertical-align: top;\n",
              "    }\n",
              "\n",
              "    .dataframe thead th {\n",
              "        text-align: right;\n",
              "    }\n",
              "</style>\n",
              "<table border=\"1\" class=\"dataframe\">\n",
              "  <thead>\n",
              "    <tr style=\"text-align: right;\">\n",
              "      <th></th>\n",
              "      <th>ds</th>\n",
              "      <th>yhat</th>\n",
              "      <th>yhat_lower</th>\n",
              "      <th>yhat_upper</th>\n",
              "    </tr>\n",
              "  </thead>\n",
              "  <tbody>\n",
              "    <tr>\n",
              "      <th>0</th>\n",
              "      <td>2020-01-01</td>\n",
              "      <td>16.840059</td>\n",
              "      <td>12.387871</td>\n",
              "      <td>20.834248</td>\n",
              "    </tr>\n",
              "    <tr>\n",
              "      <th>1</th>\n",
              "      <td>2020-02-01</td>\n",
              "      <td>16.576420</td>\n",
              "      <td>12.567020</td>\n",
              "      <td>20.524548</td>\n",
              "    </tr>\n",
              "    <tr>\n",
              "      <th>2</th>\n",
              "      <td>2020-03-01</td>\n",
              "      <td>16.392048</td>\n",
              "      <td>11.995879</td>\n",
              "      <td>20.266189</td>\n",
              "    </tr>\n",
              "    <tr>\n",
              "      <th>3</th>\n",
              "      <td>2020-04-01</td>\n",
              "      <td>16.860088</td>\n",
              "      <td>13.071283</td>\n",
              "      <td>20.950626</td>\n",
              "    </tr>\n",
              "    <tr>\n",
              "      <th>4</th>\n",
              "      <td>2020-05-01</td>\n",
              "      <td>17.172747</td>\n",
              "      <td>13.299060</td>\n",
              "      <td>21.229356</td>\n",
              "    </tr>\n",
              "    <tr>\n",
              "      <th>5</th>\n",
              "      <td>2020-06-01</td>\n",
              "      <td>17.776500</td>\n",
              "      <td>13.592918</td>\n",
              "      <td>21.560751</td>\n",
              "    </tr>\n",
              "    <tr>\n",
              "      <th>6</th>\n",
              "      <td>2020-07-01</td>\n",
              "      <td>18.442904</td>\n",
              "      <td>14.399287</td>\n",
              "      <td>22.510403</td>\n",
              "    </tr>\n",
              "    <tr>\n",
              "      <th>7</th>\n",
              "      <td>2020-08-01</td>\n",
              "      <td>18.290439</td>\n",
              "      <td>14.003677</td>\n",
              "      <td>22.065162</td>\n",
              "    </tr>\n",
              "    <tr>\n",
              "      <th>8</th>\n",
              "      <td>2020-09-01</td>\n",
              "      <td>18.144981</td>\n",
              "      <td>14.309680</td>\n",
              "      <td>22.293731</td>\n",
              "    </tr>\n",
              "    <tr>\n",
              "      <th>9</th>\n",
              "      <td>2020-10-01</td>\n",
              "      <td>17.590668</td>\n",
              "      <td>13.540486</td>\n",
              "      <td>21.915649</td>\n",
              "    </tr>\n",
              "    <tr>\n",
              "      <th>10</th>\n",
              "      <td>2020-11-01</td>\n",
              "      <td>17.203006</td>\n",
              "      <td>12.893430</td>\n",
              "      <td>21.341018</td>\n",
              "    </tr>\n",
              "    <tr>\n",
              "      <th>11</th>\n",
              "      <td>2020-12-01</td>\n",
              "      <td>16.862642</td>\n",
              "      <td>12.655358</td>\n",
              "      <td>20.745528</td>\n",
              "    </tr>\n",
              "  </tbody>\n",
              "</table>\n",
              "</div>"
            ],
            "text/plain": [
              "           ds       yhat  yhat_lower  yhat_upper\n",
              "0  2020-01-01  16.840059   12.387871   20.834248\n",
              "1  2020-02-01  16.576420   12.567020   20.524548\n",
              "2  2020-03-01  16.392048   11.995879   20.266189\n",
              "3  2020-04-01  16.860088   13.071283   20.950626\n",
              "4  2020-05-01  17.172747   13.299060   21.229356\n",
              "5  2020-06-01  17.776500   13.592918   21.560751\n",
              "6  2020-07-01  18.442904   14.399287   22.510403\n",
              "7  2020-08-01  18.290439   14.003677   22.065162\n",
              "8  2020-09-01  18.144981   14.309680   22.293731\n",
              "9  2020-10-01  17.590668   13.540486   21.915649\n",
              "10 2020-11-01  17.203006   12.893430   21.341018\n",
              "11 2020-12-01  16.862642   12.655358   20.745528"
            ]
          },
          "metadata": {
            "tags": []
          },
          "execution_count": 33
        }
      ]
    },
    {
      "cell_type": "markdown",
      "metadata": {
        "id": "UK6eI-aN6Wll"
      },
      "source": [
        "Cálculo do erro (RMSLE)"
      ]
    },
    {
      "cell_type": "code",
      "metadata": {
        "colab": {
          "base_uri": "https://localhost:8080/"
        },
        "id": "NWycXqfesuuc",
        "outputId": "3220b7b5-72ff-48ed-95fa-06ce6369ae10"
      },
      "source": [
        "from sklearn.metrics import mean_squared_log_error\r\n",
        "\r\n",
        "np.sqrt(mean_squared_log_error(test['y'], test_forecast.yhat))"
      ],
      "execution_count": 34,
      "outputs": [
        {
          "output_type": "execute_result",
          "data": {
            "text/plain": [
              "0.28231653834414905"
            ]
          },
          "metadata": {
            "tags": []
          },
          "execution_count": 34
        }
      ]
    },
    {
      "cell_type": "markdown",
      "metadata": {
        "id": "CoXDh7m7AwC8"
      },
      "source": [
        "Esse erro pode ser interpretado como 28.23% de erro entre os valores preditos e os reais.\r\n",
        "\r\n",
        "Vamos plotar o gráfico de comparação"
      ]
    },
    {
      "cell_type": "code",
      "metadata": {
        "colab": {
          "base_uri": "https://localhost:8080/",
          "height": 461
        },
        "id": "V4Ohs3mIClXb",
        "outputId": "76001f58-5d33-407b-cfc4-0ea3050fb51a"
      },
      "source": [
        "fig, ax = pylab.subplots(1,1, figsize=(12,7))\r\n",
        "ax.plot(ytest, label = 'Y')\r\n",
        "axt = ax.twinx()\r\n",
        "axt.plot(test_forecast.yhat, color = 'orange', alpha = 0.7, label='Previsões')\r\n",
        "axt.set(title='Comparação dos preços previsto e real na base teste',\r\n",
        "        ylabel='Preço da Soja em Dólar')\r\n",
        "axt.legend()"
      ],
      "execution_count": 35,
      "outputs": [
        {
          "output_type": "execute_result",
          "data": {
            "text/plain": [
              "<matplotlib.legend.Legend at 0x7f7d72aedda0>"
            ]
          },
          "metadata": {
            "tags": []
          },
          "execution_count": 35
        },
        {
          "output_type": "display_data",
          "data": {
            "image/png": "[encoded data removed]",
            "text/plain": [
              "<Figure size 864x504 with 2 Axes>"
            ]
          },
          "metadata": {
            "tags": [],
            "needs_background": "light"
          }
        }
      ]
    },
    {
      "cell_type": "markdown",
      "metadata": {
        "id": "hLH1LABkBCdu"
      },
      "source": [
        "Analisando o erro e o gráfico, podemos concluir que o modelo ficou bem longe de bater a baseline e portanto precisa ser melhorado. Para isso podemos usar diferentes períodos de tempo, verificar se históricamente algum período deveria ser desconsiderado, etc. \r\n",
        "\r\n",
        "Além disso outra técnicas de modelagem podem ser utilizadas e talvez se adequem melhor a essa série temporal, como as técnicas mais clássicas ARIMA, SARIMA, além de outras técnicas como Random Forest, LightGBM, Redes Neurais entre outras."
      ]
    },
    {
      "cell_type": "markdown",
      "metadata": {
        "id": "37Qf4unCG5oq"
      },
      "source": [
        "**Alterando o período de treino**"
      ]
    },
    {
      "cell_type": "markdown",
      "metadata": {
        "id": "8o0h8sahKLHO"
      },
      "source": [
        "Reduzindo o período de treino para apenas 1 ano anterior ao período de teste"
      ]
    },
    {
      "cell_type": "code",
      "metadata": {
        "colab": {
          "base_uri": "https://localhost:8080/",
          "height": 750
        },
        "id": "MFzluzEBHItg",
        "outputId": "ae31e8fa-f3be-4cfb-824a-67805343ca40"
      },
      "source": [
        "# Carregar a base\r\n",
        "df= pd.read_csv('/content/drive/MyDrive/DGH/preco_soja_mensal.csv', sep=\";\", decimal=\",\", header=0, encoding='UTF-8')\r\n",
        "\r\n",
        "# Trocar os nomes das colunas para o padrão do Prophet\r\n",
        "df.columns = ['ds', 'y']\r\n",
        "df['ds']= pd.to_datetime(df['ds'])\r\n",
        "\r\n",
        "# Definir o perído de treino\r\n",
        "df = df[(df['ds'] > \"2019-01\") & (df['ds'] <= \"2020-12\")]\r\n",
        "\r\n",
        "# Separar os dados de teste (12 meses)\r\n",
        "train = df.drop(df.index[-12:])\r\n",
        "print(train.tail(12))\r\n",
        "\r\n",
        "# Instanciar um objeto Prophet\r\n",
        "m = Prophet()\r\n",
        "\r\n",
        "# Treinar o modelo\r\n",
        "m.fit(train)\r\n",
        "\r\n",
        "# Definir o período que queremos fazer as previsões\r\n",
        "future = list()\r\n",
        "for i in range(1, 13):\r\n",
        "\tdate = '2020-%02d' % i\r\n",
        "\tfuture.append([date])\r\n",
        "future = DataFrame(future)\r\n",
        "future.columns = ['ds']\r\n",
        "future['ds'] = pd.to_datetime(future['ds'])\r\n",
        "\r\n",
        "# Realizar as previsões\r\n",
        "forecast = m.predict(future)\r\n",
        "\r\n",
        "# Calcular o erro entre o previsto e o real\r\n",
        "ytest = df['y'][-12:].values\r\n",
        "ypred = forecast['yhat'].values\r\n",
        "rmsle = np.sqrt(mean_squared_log_error(ytest, ypred))\r\n",
        "print('RMSLE: %.3f' % rmsle)\r\n",
        "\r\n",
        "# Plotar o gráfico comparativo entre os valores reais e previstos\r\n",
        "fig, ax = pylab.subplots(1,1, figsize=(12,7))\r\n",
        "ax.plot(ytest, label = 'Y')\r\n",
        "axt = ax.twinx()\r\n",
        "axt.plot(ypred, color = 'orange', alpha = 0.7, label='Previsões')\r\n",
        "axt.set(title='Comparação dos preços previsto e real na base teste',\r\n",
        "        ylabel='Preço da Soja em Dólar')\r\n",
        "axt.legend()"
      ],
      "execution_count": 36,
      "outputs": [
        {
          "output_type": "stream",
          "text": [
            "INFO:fbprophet:Disabling yearly seasonality. Run prophet with yearly_seasonality=True to override this.\n",
            "INFO:fbprophet:Disabling weekly seasonality. Run prophet with weekly_seasonality=True to override this.\n",
            "INFO:fbprophet:Disabling daily seasonality. Run prophet with daily_seasonality=True to override this.\n",
            "INFO:fbprophet:n_changepoints greater than number of observations. Using 7.\n"
          ],
          "name": "stderr"
        },
        {
          "output_type": "stream",
          "text": [
            "            ds      y\n",
            "97  2019-02-01  19.56\n",
            "98  2019-03-01  19.00\n",
            "99  2019-04-01  18.43\n",
            "100 2019-05-01  18.25\n",
            "101 2019-06-01  19.75\n",
            "102 2019-07-01  19.52\n",
            "103 2019-08-01  19.57\n",
            "104 2019-09-01  19.51\n",
            "105 2019-10-01  20.24\n",
            "106 2019-11-01  20.27\n",
            "107 2019-12-01  20.27\n",
            "RMSLE: 0.161\n"
          ],
          "name": "stdout"
        },
        {
          "output_type": "execute_result",
          "data": {
            "text/plain": [
              "<matplotlib.legend.Legend at 0x7f7d68b5b2b0>"
            ]
          },
          "metadata": {
            "tags": []
          },
          "execution_count": 36
        },
        {
          "output_type": "display_data",
          "data": {
            "image/png": "[encoded data removed]",
            "text/plain": [
              "<Figure size 864x504 with 2 Axes>"
            ]
          },
          "metadata": {
            "tags": [],
            "needs_background": "light"
          }
        }
      ]
    },
    {
      "cell_type": "markdown",
      "metadata": {
        "id": "e22P1l0ZZkH7"
      },
      "source": [
        "O erro ficou em 16.1%, ainda bem longe da baseline. Além disso pelo gráfico podemos verificar que a previsão foi bem ruim na maioria dos meses. O que era de se esperar pois analiasando a série histórica, podemos ver que o comportamento do ano 2019 foi bem diferente do ano 2020."
      ]
    },
    {
      "cell_type": "markdown",
      "metadata": {
        "id": "iybDwtx3DnNZ"
      },
      "source": [
        "# Criar um \"Out-of-Sample Forecast\""
      ]
    },
    {
      "cell_type": "markdown",
      "metadata": {
        "id": "aSETNewHYcXa"
      },
      "source": [
        "**Previsão do preço da soja para o ano de 2021**\r\n",
        "\r\n",
        "Utilizei como treino o ano anterior (2020), supondo que 2021 siga a mesma tendência, porém como pudemos observar essa série temporal não parece seguir tendências e sazonalidades claras, outros fatores como mercado, crises e acordos comercias parecem ter um grande impacto e não conseguem ser modelados por essa abordagem do Prophet. Teríamos que escolher uma abordagem multivariada, provavelmente modelos de árvore e redes neurais possam explicar melhor esses fatores.\r\n",
        "\r\n"
      ]
    },
    {
      "cell_type": "code",
      "metadata": {
        "colab": {
          "base_uri": "https://localhost:8080/",
          "height": 1000
        },
        "id": "HVdY6QfoDqaS",
        "outputId": "576e013e-7d66-419d-e80a-1535802dfa3c"
      },
      "source": [
        "from pandas import read_csv\r\n",
        "from pandas import to_datetime\r\n",
        "from pandas import DataFrame\r\n",
        "from fbprophet import Prophet\r\n",
        "from matplotlib import pyplot\r\n",
        "\r\n",
        "# Carregar a base\r\n",
        "df= pd.read_csv('/content/drive/MyDrive/DGH/preco_soja_diario.csv', sep=\";\", decimal=\",\", header=0, encoding='UTF-8')\r\n",
        "\r\n",
        "# Trocar os nomes das colunas para o padrão do Prophet\r\n",
        "df.columns = ['ds', 'y']\r\n",
        "df['ds']= to_datetime(df['ds'])\r\n",
        "\r\n",
        "# Definir o período de treino\r\n",
        "df = df[df['ds'] > \"2020-01-01\"]\r\n",
        "\r\n",
        "# # Instanciar um objeto Prophet\r\n",
        "m = Prophet()\r\n",
        "m.add_seasonality(name='monthly', period=30.5, fourier_order=5)\r\n",
        "\r\n",
        "# Treinar o modelo\r\n",
        "m.fit(df)\r\n",
        "\r\n",
        "# Definir o período que queremos fazer as previsões\r\n",
        "future = list()\r\n",
        "for i in range(1, 13):\r\n",
        "\tdate = '2021-%02d' % i\r\n",
        "\tfuture.append([date])\r\n",
        "future = DataFrame(future)\r\n",
        "future.columns = ['ds']\r\n",
        "future['ds']= to_datetime(future['ds'])\r\n",
        "\r\n",
        "# Realizar as previsões\r\n",
        "forecast = m.predict(future)\r\n",
        "\r\n",
        "# Resumo do forecast\r\n",
        "print(forecast[['ds', 'yhat', 'yhat_lower', 'yhat_upper']])\r\n",
        "\r\n",
        "# Plotar o forecast e os componentes\r\n",
        "fig3 = m.plot(forecast)\r\n",
        "fig4 = m.plot_components(forecast)"
      ],
      "execution_count": 37,
      "outputs": [
        {
          "output_type": "stream",
          "text": [
            "INFO:fbprophet:Disabling yearly seasonality. Run prophet with yearly_seasonality=True to override this.\n",
            "INFO:fbprophet:Disabling daily seasonality. Run prophet with daily_seasonality=True to override this.\n"
          ],
          "name": "stderr"
        },
        {
          "output_type": "stream",
          "text": [
            "           ds       yhat  yhat_lower  yhat_upper\n",
            "0  2021-01-01  25.807501   22.658592   29.015737\n",
            "1  2021-02-01  26.501207   23.484809   29.540300\n",
            "2  2021-03-01  30.546010   27.330774   33.483964\n",
            "3  2021-04-01  31.122694   28.028605   33.894034\n",
            "4  2021-05-01  33.791336   30.816519   36.788436\n",
            "5  2021-06-01  33.722151   30.476738   36.822279\n",
            "6  2021-07-01  35.287469   31.977303   38.671641\n",
            "7  2021-08-01  37.123634   33.802537   40.346044\n",
            "8  2021-09-01  37.090057   33.275229   40.585685\n",
            "9  2021-10-01  38.743090   35.321577   42.204065\n",
            "10 2021-11-01  39.379360   35.151243   43.138902\n",
            "11 2021-12-01  41.375016   37.327272   45.482452\n"
          ],
          "name": "stdout"
        },
        {
          "output_type": "display_data",
          "data": {
            "image/png": "[encoded data removed]",
            "text/plain": [
              "<Figure size 720x432 with 1 Axes>"
            ]
          },
          "metadata": {
            "tags": []
          }
        },
        {
          "output_type": "display_data",
          "data": {
            "image/png": "[encoded data removed]",
            "text/plain": [
              "<Figure size 648x648 with 3 Axes>"
            ]
          },
          "metadata": {
            "tags": []
          }
        }
      ]
    }
  ]
}